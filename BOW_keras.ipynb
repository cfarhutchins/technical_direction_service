{
  "nbformat": 4,
  "nbformat_minor": 0,
  "metadata": {
    "colab": {
      "name": "BOW_keras.ipynb",
      "version": "0.3.2",
      "provenance": [],
      "collapsed_sections": [],
      "include_colab_link": true
    },
    "kernelspec": {
      "name": "python3",
      "display_name": "Python 3"
    }
  },
  "cells": [
    {
      "cell_type": "markdown",
      "metadata": {
        "id": "view-in-github",
        "colab_type": "text"
      },
      "source": [
        "<a href=\"https://colab.research.google.com/github/cfarhutchins/technical_direction_service/blob/master/BOW_keras.ipynb\" target=\"_parent\"><img src=\"https://colab.research.google.com/assets/colab-badge.svg\" alt=\"Open In Colab\"/></a>"
      ]
    },
    {
      "cell_type": "code",
      "metadata": {
        "id": "KJKPYp6tYRQt",
        "colab_type": "code",
        "outputId": "9141570b-0b0f-4d91-9bcd-acb9e16aac98",
        "colab": {
          "base_uri": "https://localhost:8080/",
          "height": 275
        }
      },
      "source": [
        "!pip install GetOldTweets3\n",
        "!pip install vaderSentiment"
      ],
      "execution_count": 2,
      "outputs": [
        {
          "output_type": "stream",
          "text": [
            "Collecting GetOldTweets3\n",
            "  Downloading https://files.pythonhosted.org/packages/9b/e6/e0d40bcdff849dd2aede00c043b16862d94f887fffdd8f0a14e4d4a8baf0/GetOldTweets3-0.0.10-py3-none-any.whl\n",
            "Collecting pyquery>=1.2.10 (from GetOldTweets3)\n",
            "  Downloading https://files.pythonhosted.org/packages/09/c7/ce8c9c37ab8ff8337faad3335c088d60bed4a35a4bed33a64f0e64fbcf29/pyquery-1.4.0-py2.py3-none-any.whl\n",
            "Requirement already satisfied: lxml>=3.5.0 in /usr/local/lib/python3.6/dist-packages (from GetOldTweets3) (4.2.6)\n",
            "Collecting cssselect>0.7.9 (from pyquery>=1.2.10->GetOldTweets3)\n",
            "  Downloading https://files.pythonhosted.org/packages/7b/44/25b7283e50585f0b4156960691d951b05d061abf4a714078393e51929b30/cssselect-1.0.3-py2.py3-none-any.whl\n",
            "Installing collected packages: cssselect, pyquery, GetOldTweets3\n",
            "Successfully installed GetOldTweets3-0.0.10 cssselect-1.0.3 pyquery-1.4.0\n",
            "Collecting vaderSentiment\n",
            "\u001b[?25l  Downloading https://files.pythonhosted.org/packages/86/9e/c53e1fc61aac5ee490a6ac5e21b1ac04e55a7c2aba647bb8411c9aadf24e/vaderSentiment-3.2.1-py2.py3-none-any.whl (125kB)\n",
            "\u001b[K     |████████████████████████████████| 133kB 5.1MB/s \n",
            "\u001b[?25hInstalling collected packages: vaderSentiment\n",
            "Successfully installed vaderSentiment-3.2.1\n"
          ],
          "name": "stdout"
        }
      ]
    },
    {
      "cell_type": "code",
      "metadata": {
        "id": "5rCn5NSosYmN",
        "colab_type": "code",
        "outputId": "b03d0c3c-28fd-4078-eed8-f75a70e4ec34",
        "colab": {
          "base_uri": "https://localhost:8080/",
          "height": 68
        }
      },
      "source": [
        "import itertools\n",
        "import os\n",
        "\n",
        "%matplotlib inline\n",
        "import matplotlib.pyplot as plt\n",
        "import numpy as np\n",
        "import pandas as pd\n",
        "import tensorflow as tf\n",
        "\n",
        "from sklearn.preprocessing import LabelBinarizer, LabelEncoder\n",
        "from sklearn.metrics import confusion_matrix\n",
        "\n",
        "from tensorflow import keras\n",
        "from keras.models import Sequential\n",
        "from keras.layers import Dense, Activation, Dropout\n",
        "from keras.preprocessing import text, sequence\n",
        "from keras import utils\n",
        "import GetOldTweets3 as got\n",
        "from sklearn.feature_extraction.text import CountVectorizer\n",
        "from vaderSentiment.vaderSentiment import SentimentIntensityAnalyzer\n",
        "import re\n",
        "import nltk \n",
        "import bs4 as BeautifulSoup\n",
        "nltk.download('stopwords')\n",
        "import html5lib\n"
      ],
      "execution_count": 3,
      "outputs": [
        {
          "output_type": "stream",
          "text": [
            "Using TensorFlow backend.\n"
          ],
          "name": "stderr"
        },
        {
          "output_type": "stream",
          "text": [
            "[nltk_data] Downloading package stopwords to /root/nltk_data...\n",
            "[nltk_data]   Unzipping corpora/stopwords.zip.\n"
          ],
          "name": "stdout"
        }
      ]
    },
    {
      "cell_type": "code",
      "metadata": {
        "id": "BIUpmjJatejb",
        "colab_type": "code",
        "colab": {}
      },
      "source": [
        "tweetCriteria = got.manager.TweetCriteria().setQuerySearch('reparations')\\\n",
        "                                           .setSince('2019-07-04')\\\n",
        "                                           .setUntil('2019-07-11')\\\n",
        "                                           .setMaxTweets(30_000)\n",
        "tweet = got.manager.TweetManager.getTweets(tweetCriteria)\n",
        "\n",
        "repar_tweets = []\n",
        "\n",
        "for i in tweet:\n",
        "  repar_tweets.append(i.text)"
      ],
      "execution_count": 0,
      "outputs": []
    },
    {
      "cell_type": "code",
      "metadata": {
        "id": "tdaTmP2BDvm5",
        "colab_type": "code",
        "colab": {}
      },
      "source": [
        "tweetCriteria = got.manager.TweetCriteria().setQuerySearch('reparations')\\\n",
        "                                           .setSince('2019-06-13')\\\n",
        "                                           .setUntil('2019-06-20')\\\n",
        "                                           .setMaxTweets(30_000)\n",
        "tweet = got.manager.TweetManager.getTweets(tweetCriteria)\n",
        "\n",
        "\n",
        "\n",
        "for i in tweet:\n",
        "  repar_tweets.append(i.text)"
      ],
      "execution_count": 0,
      "outputs": []
    },
    {
      "cell_type": "code",
      "metadata": {
        "id": "hKmE5bL9It8T",
        "colab_type": "code",
        "colab": {
          "base_uri": "https://localhost:8080/",
          "height": 34
        },
        "outputId": "5f2f6e73-421d-4f83-f2a0-47224791eaa3"
      },
      "source": [
        "len(repar_tweets)"
      ],
      "execution_count": 6,
      "outputs": [
        {
          "output_type": "execute_result",
          "data": {
            "text/plain": [
              "60000"
            ]
          },
          "metadata": {
            "tags": []
          },
          "execution_count": 6
        }
      ]
    },
    {
      "cell_type": "code",
      "metadata": {
        "id": "LHHcdxhUvgx0",
        "colab_type": "code",
        "colab": {}
      },
      "source": [
        "analyzer = SentimentIntensityAnalyzer()"
      ],
      "execution_count": 0,
      "outputs": []
    },
    {
      "cell_type": "code",
      "metadata": {
        "id": "buluKu2ltecd",
        "colab_type": "code",
        "colab": {}
      },
      "source": [
        "df_repar = pd.DataFrame(repar_tweets)\n",
        "df_repar.rename(columns={0:'tweet'}, inplace= True)\n",
        "df_repar['feels'] = df_repar['tweet'].apply(lambda i: analyzer.polarity_scores(i))\n",
        "compound = []\n",
        "\n",
        "for dct in df_repar['feels']:\n",
        "  compound.append(dct['compound'])\n",
        "\n",
        "negative = []\n",
        "  \n",
        "for dct in df_repar['feels']:\n",
        "  negative.append(dct['neg'])\n",
        "  \n",
        "neutral = [] \n",
        "  \n",
        "for dct in df_repar['feels']:\n",
        "  neutral.append(dct['neu'])\n",
        "  \n",
        "positive = []\n",
        "\n",
        "for dct in df_repar['feels']:\n",
        "  positive.append(dct['pos'])\n",
        "  \n",
        "df_repar['compound'] = compound\n",
        "df_repar['negative'] = negative\n",
        "df_repar['neutral'] = neutral\n",
        "df_repar['positive'] = positive\n",
        "\n",
        "df_repar.drop(columns = 'feels', inplace = True)"
      ],
      "execution_count": 0,
      "outputs": []
    },
    {
      "cell_type": "code",
      "metadata": {
        "id": "1FYu3LCSvviq",
        "colab_type": "code",
        "outputId": "b4000a74-a24f-4abc-9c3c-732a57d4fd9c",
        "colab": {
          "base_uri": "https://localhost:8080/",
          "height": 204
        }
      },
      "source": [
        "df_repar.head()"
      ],
      "execution_count": 9,
      "outputs": [
        {
          "output_type": "execute_result",
          "data": {
            "text/html": [
              "<div>\n",
              "<style scoped>\n",
              "    .dataframe tbody tr th:only-of-type {\n",
              "        vertical-align: middle;\n",
              "    }\n",
              "\n",
              "    .dataframe tbody tr th {\n",
              "        vertical-align: top;\n",
              "    }\n",
              "\n",
              "    .dataframe thead th {\n",
              "        text-align: right;\n",
              "    }\n",
              "</style>\n",
              "<table border=\"1\" class=\"dataframe\">\n",
              "  <thead>\n",
              "    <tr style=\"text-align: right;\">\n",
              "      <th></th>\n",
              "      <th>tweet</th>\n",
              "      <th>compound</th>\n",
              "      <th>negative</th>\n",
              "      <th>neutral</th>\n",
              "      <th>positive</th>\n",
              "    </tr>\n",
              "  </thead>\n",
              "  <tbody>\n",
              "    <tr>\n",
              "      <th>0</th>\n",
              "      <td>I don’t think they deserve reparations they st...</td>\n",
              "      <td>-0.4939</td>\n",
              "      <td>0.186</td>\n",
              "      <td>0.814</td>\n",
              "      <td>0.000</td>\n",
              "    </tr>\n",
              "    <tr>\n",
              "      <th>1</th>\n",
              "      <td>If you listen to Rush, you’d already know that...</td>\n",
              "      <td>0.1027</td>\n",
              "      <td>0.000</td>\n",
              "      <td>0.949</td>\n",
              "      <td>0.051</td>\n",
              "    </tr>\n",
              "    <tr>\n",
              "      <th>2</th>\n",
              "      <td>Uber reparations: my new passion project</td>\n",
              "      <td>0.4588</td>\n",
              "      <td>0.000</td>\n",
              "      <td>0.625</td>\n",
              "      <td>0.375</td>\n",
              "    </tr>\n",
              "    <tr>\n",
              "      <th>3</th>\n",
              "      <td>What I’m about to say may and may not offend y...</td>\n",
              "      <td>0.7626</td>\n",
              "      <td>0.000</td>\n",
              "      <td>0.856</td>\n",
              "      <td>0.144</td>\n",
              "    </tr>\n",
              "    <tr>\n",
              "      <th>4</th>\n",
              "      <td>@JacksonLeeTX18 #ados don’t deserve this we ar...</td>\n",
              "      <td>-0.8257</td>\n",
              "      <td>0.181</td>\n",
              "      <td>0.749</td>\n",
              "      <td>0.070</td>\n",
              "    </tr>\n",
              "  </tbody>\n",
              "</table>\n",
              "</div>"
            ],
            "text/plain": [
              "                                               tweet  ...  positive\n",
              "0  I don’t think they deserve reparations they st...  ...     0.000\n",
              "1  If you listen to Rush, you’d already know that...  ...     0.051\n",
              "2           Uber reparations: my new passion project  ...     0.375\n",
              "3  What I’m about to say may and may not offend y...  ...     0.144\n",
              "4  @JacksonLeeTX18 #ados don’t deserve this we ar...  ...     0.070\n",
              "\n",
              "[5 rows x 5 columns]"
            ]
          },
          "metadata": {
            "tags": []
          },
          "execution_count": 9
        }
      ]
    },
    {
      "cell_type": "code",
      "metadata": {
        "id": "pY6OGJCSmRju",
        "colab_type": "code",
        "colab": {}
      },
      "source": [
        "from nltk.corpus import stopwords\n",
        "from sklearn.utils.validation import check_is_fitted\n",
        "from sklearn.utils.validation import column_or_1d"
      ],
      "execution_count": 0,
      "outputs": []
    },
    {
      "cell_type": "code",
      "metadata": {
        "id": "_swP_L6VAbU9",
        "colab_type": "code",
        "colab": {}
      },
      "source": [
        "word = re.compile('[^\\s]+')\n"
      ],
      "execution_count": 0,
      "outputs": []
    },
    {
      "cell_type": "code",
      "metadata": {
        "id": "2ogO0JvUUN-E",
        "colab_type": "code",
        "outputId": "ef8ca540-de07-4adc-e9ff-ef852919ac93",
        "colab": {
          "base_uri": "https://localhost:8080/",
          "height": 204
        }
      },
      "source": [
        "REPLACE_BY_SPACE_RE = re.compile('[/(){}\\[\\]\\|@,;]')\n",
        "BAD_SYMBOLS_RE = re.compile('[^0-9a-z #+_]')\n",
        "STOPWORDS = set(stopwords.words('english'))\n",
        "\n",
        "def clean_text(text):\n",
        "    \"\"\"\n",
        "        text: a string\n",
        "        \n",
        "        return: modified initial string\n",
        "    \"\"\"\n",
        "    #text = BeautifulSoup(text, \"lxml\").text # HTML decoding\n",
        "    text = text.lower() # lowercase text\n",
        "    text = REPLACE_BY_SPACE_RE.sub(' ', text) # replace REPLACE_BY_SPACE_RE symbols by space in text\n",
        "    text = BAD_SYMBOLS_RE.sub('', text) # delete symbols which are in BAD_SYMBOLS_RE from text\n",
        "    text = ' '.join(word for word in text.split() if word not in STOPWORDS) # delete stopwors from text\n",
        "    return text\n",
        "    \n",
        "df_repar['clean_text'] = df_repar['tweet'].apply(clean_text)\n",
        "#print_plot(10)\n",
        "df_repar.head()"
      ],
      "execution_count": 12,
      "outputs": [
        {
          "output_type": "execute_result",
          "data": {
            "text/html": [
              "<div>\n",
              "<style scoped>\n",
              "    .dataframe tbody tr th:only-of-type {\n",
              "        vertical-align: middle;\n",
              "    }\n",
              "\n",
              "    .dataframe tbody tr th {\n",
              "        vertical-align: top;\n",
              "    }\n",
              "\n",
              "    .dataframe thead th {\n",
              "        text-align: right;\n",
              "    }\n",
              "</style>\n",
              "<table border=\"1\" class=\"dataframe\">\n",
              "  <thead>\n",
              "    <tr style=\"text-align: right;\">\n",
              "      <th></th>\n",
              "      <th>tweet</th>\n",
              "      <th>compound</th>\n",
              "      <th>negative</th>\n",
              "      <th>neutral</th>\n",
              "      <th>positive</th>\n",
              "      <th>clean_text</th>\n",
              "    </tr>\n",
              "  </thead>\n",
              "  <tbody>\n",
              "    <tr>\n",
              "      <th>0</th>\n",
              "      <td>I don’t think they deserve reparations they st...</td>\n",
              "      <td>-0.4939</td>\n",
              "      <td>0.186</td>\n",
              "      <td>0.814</td>\n",
              "      <td>0.000</td>\n",
              "      <td>dont think deserve reparations steal enough ma...</td>\n",
              "    </tr>\n",
              "    <tr>\n",
              "      <th>1</th>\n",
              "      <td>If you listen to Rush, you’d already know that...</td>\n",
              "      <td>0.1027</td>\n",
              "      <td>0.000</td>\n",
              "      <td>0.949</td>\n",
              "      <td>0.051</td>\n",
              "      <td>listen rush youd already know guess shell payi...</td>\n",
              "    </tr>\n",
              "    <tr>\n",
              "      <th>2</th>\n",
              "      <td>Uber reparations: my new passion project</td>\n",
              "      <td>0.4588</td>\n",
              "      <td>0.000</td>\n",
              "      <td>0.625</td>\n",
              "      <td>0.375</td>\n",
              "      <td>uber reparations new passion project</td>\n",
              "    </tr>\n",
              "    <tr>\n",
              "      <th>3</th>\n",
              "      <td>What I’m about to say may and may not offend y...</td>\n",
              "      <td>0.7626</td>\n",
              "      <td>0.000</td>\n",
              "      <td>0.856</td>\n",
              "      <td>0.144</td>\n",
              "      <td>im say may may offend #isreal done people amer...</td>\n",
              "    </tr>\n",
              "    <tr>\n",
              "      <th>4</th>\n",
              "      <td>@JacksonLeeTX18 #ados don’t deserve this we ar...</td>\n",
              "      <td>-0.8257</td>\n",
              "      <td>0.181</td>\n",
              "      <td>0.749</td>\n",
              "      <td>0.070</td>\n",
              "      <td>jacksonleetx18 #ados dont deserve still slaves...</td>\n",
              "    </tr>\n",
              "  </tbody>\n",
              "</table>\n",
              "</div>"
            ],
            "text/plain": [
              "                                               tweet  ...                                         clean_text\n",
              "0  I don’t think they deserve reparations they st...  ...  dont think deserve reparations steal enough ma...\n",
              "1  If you listen to Rush, you’d already know that...  ...  listen rush youd already know guess shell payi...\n",
              "2           Uber reparations: my new passion project  ...               uber reparations new passion project\n",
              "3  What I’m about to say may and may not offend y...  ...  im say may may offend #isreal done people amer...\n",
              "4  @JacksonLeeTX18 #ados don’t deserve this we ar...  ...  jacksonleetx18 #ados dont deserve still slaves...\n",
              "\n",
              "[5 rows x 6 columns]"
            ]
          },
          "metadata": {
            "tags": []
          },
          "execution_count": 12
        }
      ]
    },
    {
      "cell_type": "code",
      "metadata": {
        "id": "NTm10eSOrZ7J",
        "colab_type": "code",
        "colab": {}
      },
      "source": [
        "my_tags = ['reparations',\n",
        "           'slavery',\n",
        "           'descendants', \n",
        "           'stupid',\n",
        "           'civil war',\n",
        "           'ancestors',\n",
        "           'dead',\n",
        "           'hell',\n",
        "           'racism',\n",
        "           'abuse',\n",
        "           'shit',\n",
        "           'bitch',\n",
        "           'bullshit',\n",
        "           'vote',\n",
        "           'pay',\n",
        "           'pain',\n",
        "           'suffering',\n",
        "           'illegal aliens',\n",
        "           'dead',\n",
        "           'scam',\n",
        "           'chattel', \n",
        "           'forced',\n",
        "           'stealing',\n",
        "           'end',\n",
        "           'stealth',\n",
        "           'good',\n",
        "           'luck', \n",
        "           'happy',\n",
        "           'win', \n",
        "           'grandfathers',\n",
        "           'grandmothers',\n",
        "           'honestly',\n",
        "           'need',\n",
        "           'better',\n",
        "           'freedom',\n",
        "           'wealth', \n",
        "           'redistribution',\n",
        "           'support',\n",
        "           'public',\n",
        "           'forum',\n",
        "           'argument',\n",
        "           'peace',\n",
        "           'love',\n",
        "           'justice',\n",
        "           'claim'\n",
        "]\n"
      ],
      "execution_count": 0,
      "outputs": []
    },
    {
      "cell_type": "code",
      "metadata": {
        "id": "gh73ZZEtwU60",
        "colab_type": "code",
        "outputId": "ef2f790f-540b-4065-a32d-36dc7010f2da",
        "colab": {
          "base_uri": "https://localhost:8080/",
          "height": 119
        }
      },
      "source": [
        "pingbit = pd.Series(my_tags)\n",
        "pingbit.head()"
      ],
      "execution_count": 14,
      "outputs": [
        {
          "output_type": "execute_result",
          "data": {
            "text/plain": [
              "0    reparations\n",
              "1        slavery\n",
              "2    descendants\n",
              "3         stupid\n",
              "4      civil war\n",
              "dtype: object"
            ]
          },
          "metadata": {
            "tags": []
          },
          "execution_count": 14
        }
      ]
    },
    {
      "cell_type": "code",
      "metadata": {
        "id": "7l27uLDgIxIy",
        "colab_type": "code",
        "colab": {}
      },
      "source": [
        ""
      ],
      "execution_count": 0,
      "outputs": []
    },
    {
      "cell_type": "code",
      "metadata": {
        "id": "qzRBjIYpwUBh",
        "colab_type": "code",
        "colab": {}
      },
      "source": [
        "cv = CountVectorizer(ngram_range=(2,2),binary=True, stop_words='english')\n"
      ],
      "execution_count": 0,
      "outputs": []
    },
    {
      "cell_type": "code",
      "metadata": {
        "id": "afZ6lRGOwf-l",
        "colab_type": "code",
        "colab": {}
      },
      "source": [
        "x = df_repar['tweet']\n",
        "y = df_repar['compound']\n",
        "\n"
      ],
      "execution_count": 0,
      "outputs": []
    },
    {
      "cell_type": "code",
      "metadata": {
        "id": "LeurgsVm1o1a",
        "colab_type": "code",
        "colab": {}
      },
      "source": [
        "from sklearn.model_selection import train_test_split, cross_val_score"
      ],
      "execution_count": 0,
      "outputs": []
    },
    {
      "cell_type": "code",
      "metadata": {
        "id": "b_dBYwqgsxCn",
        "colab_type": "code",
        "colab": {}
      },
      "source": [
        "x_train, x_test, y_train, y_test = train_test_split(x, y, test_size= .33)\n",
        "\n",
        "X_train = cv.fit_transform(x_train)\n",
        "\n",
        "X_test = cv.transform(x_test)"
      ],
      "execution_count": 0,
      "outputs": []
    },
    {
      "cell_type": "code",
      "metadata": {
        "id": "E56TwXh5xwT3",
        "colab_type": "code",
        "colab": {}
      },
      "source": [
        "from sklearn.linear_model import Ridge\n",
        "\n",
        "rdg = Ridge()"
      ],
      "execution_count": 0,
      "outputs": []
    },
    {
      "cell_type": "code",
      "metadata": {
        "id": "9i0ipicCyHiZ",
        "colab_type": "code",
        "colab": {
          "base_uri": "https://localhost:8080/",
          "height": 51
        },
        "outputId": "519a25dd-2cfb-44b7-9d9f-f8d1cc5dba41"
      },
      "source": [
        "rdg.fit(X_train, y_train)"
      ],
      "execution_count": 20,
      "outputs": [
        {
          "output_type": "execute_result",
          "data": {
            "text/plain": [
              "Ridge(alpha=1.0, copy_X=True, fit_intercept=True, max_iter=None,\n",
              "      normalize=False, random_state=None, solver='auto', tol=0.001)"
            ]
          },
          "metadata": {
            "tags": []
          },
          "execution_count": 20
        }
      ]
    },
    {
      "cell_type": "code",
      "metadata": {
        "id": "Z5UwZzs8yR8C",
        "colab_type": "code",
        "colab": {
          "base_uri": "https://localhost:8080/",
          "height": 51
        },
        "outputId": "c4207098-fd61-493a-8ce8-0157861adbf0"
      },
      "source": [
        "rdg.predict(X_test)"
      ],
      "execution_count": 21,
      "outputs": [
        {
          "output_type": "execute_result",
          "data": {
            "text/plain": [
              "array([-0.01782127, -0.38748867,  0.36258335, ...,  0.00858623,\n",
              "        1.11527404, -0.16980367])"
            ]
          },
          "metadata": {
            "tags": []
          },
          "execution_count": 21
        }
      ]
    },
    {
      "cell_type": "code",
      "metadata": {
        "id": "NFihEbqAycKt",
        "colab_type": "code",
        "colab": {}
      },
      "source": [
        "rdg.score(X_test, y_test)\n",
        "pingwords = cv.get_feature_names()"
      ],
      "execution_count": 0,
      "outputs": []
    },
    {
      "cell_type": "code",
      "metadata": {
        "id": "__1bwZ7iyedw",
        "colab_type": "code",
        "colab": {}
      },
      "source": [
        "df_pingwords = pd.DataFrame(rdg.coef_, index = pingwords).sort_values(by=0)\n"
      ],
      "execution_count": 0,
      "outputs": []
    },
    {
      "cell_type": "code",
      "metadata": {
        "id": "tujnvA9naB4b",
        "colab_type": "code",
        "colab": {}
      },
      "source": [
        "ping_scores = []\n",
        "\n",
        "for data in df_pingwords[0]:\n",
        "  ping_scores.append(data)\n",
        "\n",
        "df_ping_scores = pd.DataFrame(ping_scores)"
      ],
      "execution_count": 0,
      "outputs": []
    },
    {
      "cell_type": "code",
      "metadata": {
        "id": "6xf3qXQK10tH",
        "colab_type": "code",
        "colab": {
          "base_uri": "https://localhost:8080/",
          "height": 204
        },
        "outputId": "a4e42c01-607e-485f-f8d7-928862fee0f3"
      },
      "source": [
        "df_ping_scores.head()"
      ],
      "execution_count": 25,
      "outputs": [
        {
          "output_type": "execute_result",
          "data": {
            "text/html": [
              "<div>\n",
              "<style scoped>\n",
              "    .dataframe tbody tr th:only-of-type {\n",
              "        vertical-align: middle;\n",
              "    }\n",
              "\n",
              "    .dataframe tbody tr th {\n",
              "        vertical-align: top;\n",
              "    }\n",
              "\n",
              "    .dataframe thead th {\n",
              "        text-align: right;\n",
              "    }\n",
              "</style>\n",
              "<table border=\"1\" class=\"dataframe\">\n",
              "  <thead>\n",
              "    <tr style=\"text-align: right;\">\n",
              "      <th></th>\n",
              "      <th>0</th>\n",
              "    </tr>\n",
              "  </thead>\n",
              "  <tbody>\n",
              "    <tr>\n",
              "      <th>0</th>\n",
              "      <td>-0.478084</td>\n",
              "    </tr>\n",
              "    <tr>\n",
              "      <th>1</th>\n",
              "      <td>-0.477979</td>\n",
              "    </tr>\n",
              "    <tr>\n",
              "      <th>2</th>\n",
              "      <td>-0.463342</td>\n",
              "    </tr>\n",
              "    <tr>\n",
              "      <th>3</th>\n",
              "      <td>-0.459906</td>\n",
              "    </tr>\n",
              "    <tr>\n",
              "      <th>4</th>\n",
              "      <td>-0.458670</td>\n",
              "    </tr>\n",
              "  </tbody>\n",
              "</table>\n",
              "</div>"
            ],
            "text/plain": [
              "          0\n",
              "0 -0.478084\n",
              "1 -0.477979\n",
              "2 -0.463342\n",
              "3 -0.459906\n",
              "4 -0.458670"
            ]
          },
          "metadata": {
            "tags": []
          },
          "execution_count": 25
        }
      ]
    },
    {
      "cell_type": "code",
      "metadata": {
        "id": "gzKomtu213Ho",
        "colab_type": "code",
        "colab": {}
      },
      "source": [
        "pingwords_lst = []\n",
        "\n",
        "for i in pingwords:\n",
        "  pingwords_lst.append(i)"
      ],
      "execution_count": 0,
      "outputs": []
    },
    {
      "cell_type": "code",
      "metadata": {
        "id": "xGu2F6bBjswH",
        "colab_type": "code",
        "colab": {}
      },
      "source": [
        "df_pingwords = df_pingwords.index\n",
        "  "
      ],
      "execution_count": 0,
      "outputs": []
    },
    {
      "cell_type": "code",
      "metadata": {
        "id": "j-vIVDjysQex",
        "colab_type": "code",
        "colab": {}
      },
      "source": [
        "pingwords_lst = df_pingwords.to_list()"
      ],
      "execution_count": 0,
      "outputs": []
    },
    {
      "cell_type": "code",
      "metadata": {
        "id": "Rp8x-qTvs8Vz",
        "colab_type": "code",
        "colab": {}
      },
      "source": [
        "df_pingwords = pd.DataFrame(pingwords_lst)"
      ],
      "execution_count": 0,
      "outputs": []
    },
    {
      "cell_type": "code",
      "metadata": {
        "id": "4moyUkYBtdj-",
        "colab_type": "code",
        "colab": {
          "base_uri": "https://localhost:8080/",
          "height": 1000
        },
        "outputId": "c59f43b2-7d0c-4e12-ebd4-d8727b4b490e"
      },
      "source": [
        "df_pingwords"
      ],
      "execution_count": 30,
      "outputs": [
        {
          "output_type": "execute_result",
          "data": {
            "text/html": [
              "<div>\n",
              "<style scoped>\n",
              "    .dataframe tbody tr th:only-of-type {\n",
              "        vertical-align: middle;\n",
              "    }\n",
              "\n",
              "    .dataframe tbody tr th {\n",
              "        vertical-align: top;\n",
              "    }\n",
              "\n",
              "    .dataframe thead th {\n",
              "        text-align: right;\n",
              "    }\n",
              "</style>\n",
              "<table border=\"1\" class=\"dataframe\">\n",
              "  <thead>\n",
              "    <tr style=\"text-align: right;\">\n",
              "      <th></th>\n",
              "      <th>0</th>\n",
              "    </tr>\n",
              "  </thead>\n",
              "  <tbody>\n",
              "    <tr>\n",
              "      <th>0</th>\n",
              "      <td>reparations bullshit</td>\n",
              "    </tr>\n",
              "    <tr>\n",
              "      <th>1</th>\n",
              "      <td>pain suffering</td>\n",
              "    </tr>\n",
              "    <tr>\n",
              "      <th>2</th>\n",
              "      <td>reparations stupid</td>\n",
              "    </tr>\n",
              "    <tr>\n",
              "      <th>3</th>\n",
              "      <td>reparations slavery</td>\n",
              "    </tr>\n",
              "    <tr>\n",
              "      <th>4</th>\n",
              "      <td>slavery reparations</td>\n",
              "    </tr>\n",
              "    <tr>\n",
              "      <th>5</th>\n",
              "      <td>reparations hell</td>\n",
              "    </tr>\n",
              "    <tr>\n",
              "      <th>6</th>\n",
              "      <td>descendants slavery</td>\n",
              "    </tr>\n",
              "    <tr>\n",
              "      <th>7</th>\n",
              "      <td>justice happy</td>\n",
              "    </tr>\n",
              "    <tr>\n",
              "      <th>8</th>\n",
              "      <td>started slavery</td>\n",
              "    </tr>\n",
              "    <tr>\n",
              "      <th>9</th>\n",
              "      <td>civil war</td>\n",
              "    </tr>\n",
              "    <tr>\n",
              "      <th>10</th>\n",
              "      <td>fuck reparations</td>\n",
              "    </tr>\n",
              "    <tr>\n",
              "      <th>11</th>\n",
              "      <td>fought slavery</td>\n",
              "    </tr>\n",
              "    <tr>\n",
              "      <th>12</th>\n",
              "      <td>reparations racism</td>\n",
              "    </tr>\n",
              "    <tr>\n",
              "      <th>13</th>\n",
              "      <td>reparations stealing</td>\n",
              "    </tr>\n",
              "    <tr>\n",
              "      <th>14</th>\n",
              "      <td>reparations racist</td>\n",
              "    </tr>\n",
              "    <tr>\n",
              "      <th>15</th>\n",
              "      <td>sold slavery</td>\n",
              "    </tr>\n",
              "    <tr>\n",
              "      <th>16</th>\n",
              "      <td>reparations evil</td>\n",
              "    </tr>\n",
              "    <tr>\n",
              "      <th>17</th>\n",
              "      <td>reparations war</td>\n",
              "    </tr>\n",
              "    <tr>\n",
              "      <th>18</th>\n",
              "      <td>slavery abolished</td>\n",
              "    </tr>\n",
              "    <tr>\n",
              "      <th>19</th>\n",
              "      <td>ancestors slavery</td>\n",
              "    </tr>\n",
              "    <tr>\n",
              "      <th>20</th>\n",
              "      <td>problem reparations</td>\n",
              "    </tr>\n",
              "    <tr>\n",
              "      <th>21</th>\n",
              "      <td>american slavery</td>\n",
              "    </tr>\n",
              "    <tr>\n",
              "      <th>22</th>\n",
              "      <td>hell reparations</td>\n",
              "    </tr>\n",
              "    <tr>\n",
              "      <th>23</th>\n",
              "      <td>reparations ass</td>\n",
              "    </tr>\n",
              "    <tr>\n",
              "      <th>24</th>\n",
              "      <td>suffered slavery</td>\n",
              "    </tr>\n",
              "    <tr>\n",
              "      <th>25</th>\n",
              "      <td>people slavery</td>\n",
              "    </tr>\n",
              "    <tr>\n",
              "      <th>26</th>\n",
              "      <td>reparations vote</td>\n",
              "    </tr>\n",
              "    <tr>\n",
              "      <th>27</th>\n",
              "      <td>forced pay</td>\n",
              "    </tr>\n",
              "    <tr>\n",
              "      <th>28</th>\n",
              "      <td>mad reparations</td>\n",
              "    </tr>\n",
              "    <tr>\n",
              "      <th>29</th>\n",
              "      <td>say slavery</td>\n",
              "    </tr>\n",
              "    <tr>\n",
              "      <th>...</th>\n",
              "      <td>...</td>\n",
              "    </tr>\n",
              "    <tr>\n",
              "      <th>294049</th>\n",
              "      <td>great watch</td>\n",
              "    </tr>\n",
              "    <tr>\n",
              "      <th>294050</th>\n",
              "      <td>love great</td>\n",
              "    </tr>\n",
              "    <tr>\n",
              "      <th>294051</th>\n",
              "      <td>reparations thank</td>\n",
              "    </tr>\n",
              "    <tr>\n",
              "      <th>294052</th>\n",
              "      <td>reparations hahaha</td>\n",
              "    </tr>\n",
              "    <tr>\n",
              "      <th>294053</th>\n",
              "      <td>best way</td>\n",
              "    </tr>\n",
              "    <tr>\n",
              "      <th>294054</th>\n",
              "      <td>good point</td>\n",
              "    </tr>\n",
              "    <tr>\n",
              "      <th>294055</th>\n",
              "      <td>wealth redistribution</td>\n",
              "    </tr>\n",
              "    <tr>\n",
              "      <th>294056</th>\n",
              "      <td>lol good</td>\n",
              "    </tr>\n",
              "    <tr>\n",
              "      <th>294057</th>\n",
              "      <td>laugh reparations</td>\n",
              "    </tr>\n",
              "    <tr>\n",
              "      <th>294058</th>\n",
              "      <td>lmao reparations</td>\n",
              "    </tr>\n",
              "    <tr>\n",
              "      <th>294059</th>\n",
              "      <td>history means</td>\n",
              "    </tr>\n",
              "    <tr>\n",
              "      <th>294060</th>\n",
              "      <td>lol reparations</td>\n",
              "    </tr>\n",
              "    <tr>\n",
              "      <th>294061</th>\n",
              "      <td>great great</td>\n",
              "    </tr>\n",
              "    <tr>\n",
              "      <th>294062</th>\n",
              "      <td>god bless</td>\n",
              "    </tr>\n",
              "    <tr>\n",
              "      <th>294063</th>\n",
              "      <td>love reparations</td>\n",
              "    </tr>\n",
              "    <tr>\n",
              "      <th>294064</th>\n",
              "      <td>joke https</td>\n",
              "    </tr>\n",
              "    <tr>\n",
              "      <th>294065</th>\n",
              "      <td>reparations lmao</td>\n",
              "    </tr>\n",
              "    <tr>\n",
              "      <th>294066</th>\n",
              "      <td>best reparations</td>\n",
              "    </tr>\n",
              "    <tr>\n",
              "      <th>294067</th>\n",
              "      <td>great reparations</td>\n",
              "    </tr>\n",
              "    <tr>\n",
              "      <th>294068</th>\n",
              "      <td>means slavery</td>\n",
              "    </tr>\n",
              "    <tr>\n",
              "      <th>294069</th>\n",
              "      <td>best argument</td>\n",
              "    </tr>\n",
              "    <tr>\n",
              "      <th>294070</th>\n",
              "      <td>wow reparations</td>\n",
              "    </tr>\n",
              "    <tr>\n",
              "      <th>294071</th>\n",
              "      <td>fool paradise</td>\n",
              "    </tr>\n",
              "    <tr>\n",
              "      <th>294072</th>\n",
              "      <td>win reparations</td>\n",
              "    </tr>\n",
              "    <tr>\n",
              "      <th>294073</th>\n",
              "      <td>pretty sure</td>\n",
              "    </tr>\n",
              "    <tr>\n",
              "      <th>294074</th>\n",
              "      <td>reparations better</td>\n",
              "    </tr>\n",
              "    <tr>\n",
              "      <th>294075</th>\n",
              "      <td>yes yes</td>\n",
              "    </tr>\n",
              "    <tr>\n",
              "      <th>294076</th>\n",
              "      <td>good luck</td>\n",
              "    </tr>\n",
              "    <tr>\n",
              "      <th>294077</th>\n",
              "      <td>happy juneteenth</td>\n",
              "    </tr>\n",
              "    <tr>\n",
              "      <th>294078</th>\n",
              "      <td>panel told</td>\n",
              "    </tr>\n",
              "  </tbody>\n",
              "</table>\n",
              "<p>294079 rows × 1 columns</p>\n",
              "</div>"
            ],
            "text/plain": [
              "                            0\n",
              "0        reparations bullshit\n",
              "1              pain suffering\n",
              "2          reparations stupid\n",
              "3         reparations slavery\n",
              "4         slavery reparations\n",
              "5            reparations hell\n",
              "6         descendants slavery\n",
              "7               justice happy\n",
              "8             started slavery\n",
              "9                   civil war\n",
              "10           fuck reparations\n",
              "11             fought slavery\n",
              "12         reparations racism\n",
              "13       reparations stealing\n",
              "14         reparations racist\n",
              "15               sold slavery\n",
              "16           reparations evil\n",
              "17            reparations war\n",
              "18          slavery abolished\n",
              "19          ancestors slavery\n",
              "20        problem reparations\n",
              "21           american slavery\n",
              "22           hell reparations\n",
              "23            reparations ass\n",
              "24           suffered slavery\n",
              "25             people slavery\n",
              "26           reparations vote\n",
              "27                 forced pay\n",
              "28            mad reparations\n",
              "29                say slavery\n",
              "...                       ...\n",
              "294049            great watch\n",
              "294050             love great\n",
              "294051      reparations thank\n",
              "294052     reparations hahaha\n",
              "294053               best way\n",
              "294054             good point\n",
              "294055  wealth redistribution\n",
              "294056               lol good\n",
              "294057      laugh reparations\n",
              "294058       lmao reparations\n",
              "294059          history means\n",
              "294060        lol reparations\n",
              "294061            great great\n",
              "294062              god bless\n",
              "294063       love reparations\n",
              "294064             joke https\n",
              "294065       reparations lmao\n",
              "294066       best reparations\n",
              "294067      great reparations\n",
              "294068          means slavery\n",
              "294069          best argument\n",
              "294070        wow reparations\n",
              "294071          fool paradise\n",
              "294072        win reparations\n",
              "294073            pretty sure\n",
              "294074     reparations better\n",
              "294075                yes yes\n",
              "294076              good luck\n",
              "294077       happy juneteenth\n",
              "294078             panel told\n",
              "\n",
              "[294079 rows x 1 columns]"
            ]
          },
          "metadata": {
            "tags": []
          },
          "execution_count": 30
        }
      ]
    },
    {
      "cell_type": "code",
      "metadata": {
        "id": "KU4-OGA8thvb",
        "colab_type": "code",
        "colab": {}
      },
      "source": [
        "df_pingwords.rename(columns={0:'ping pair'}, inplace= True)"
      ],
      "execution_count": 0,
      "outputs": []
    },
    {
      "cell_type": "code",
      "metadata": {
        "id": "38JLvXy_uKoW",
        "colab_type": "code",
        "colab": {
          "base_uri": "https://localhost:8080/",
          "height": 204
        },
        "outputId": "09c9ed3a-91c6-431a-c0ce-212c76f83cd3"
      },
      "source": [
        "df_pingwords.head()"
      ],
      "execution_count": 32,
      "outputs": [
        {
          "output_type": "execute_result",
          "data": {
            "text/html": [
              "<div>\n",
              "<style scoped>\n",
              "    .dataframe tbody tr th:only-of-type {\n",
              "        vertical-align: middle;\n",
              "    }\n",
              "\n",
              "    .dataframe tbody tr th {\n",
              "        vertical-align: top;\n",
              "    }\n",
              "\n",
              "    .dataframe thead th {\n",
              "        text-align: right;\n",
              "    }\n",
              "</style>\n",
              "<table border=\"1\" class=\"dataframe\">\n",
              "  <thead>\n",
              "    <tr style=\"text-align: right;\">\n",
              "      <th></th>\n",
              "      <th>ping pair</th>\n",
              "    </tr>\n",
              "  </thead>\n",
              "  <tbody>\n",
              "    <tr>\n",
              "      <th>0</th>\n",
              "      <td>reparations bullshit</td>\n",
              "    </tr>\n",
              "    <tr>\n",
              "      <th>1</th>\n",
              "      <td>pain suffering</td>\n",
              "    </tr>\n",
              "    <tr>\n",
              "      <th>2</th>\n",
              "      <td>reparations stupid</td>\n",
              "    </tr>\n",
              "    <tr>\n",
              "      <th>3</th>\n",
              "      <td>reparations slavery</td>\n",
              "    </tr>\n",
              "    <tr>\n",
              "      <th>4</th>\n",
              "      <td>slavery reparations</td>\n",
              "    </tr>\n",
              "  </tbody>\n",
              "</table>\n",
              "</div>"
            ],
            "text/plain": [
              "              ping pair\n",
              "0  reparations bullshit\n",
              "1        pain suffering\n",
              "2    reparations stupid\n",
              "3   reparations slavery\n",
              "4   slavery reparations"
            ]
          },
          "metadata": {
            "tags": []
          },
          "execution_count": 32
        }
      ]
    },
    {
      "cell_type": "code",
      "metadata": {
        "id": "kkw5bxeKRfu6",
        "colab_type": "code",
        "colab": {}
      },
      "source": [
        "df_attention = df_pingwords.join(df_ping_scores)\n",
        "df_attention.rename(columns = {0:'score'}, inplace=True)\n",
        "#df_pingwords.rename(columns={0:'attention'})"
      ],
      "execution_count": 0,
      "outputs": []
    },
    {
      "cell_type": "code",
      "metadata": {
        "id": "P6B17Kz7Tmh2",
        "colab_type": "code",
        "colab": {
          "base_uri": "https://localhost:8080/",
          "height": 204
        },
        "outputId": "87484fa0-957e-4748-bd6f-be4660b795df"
      },
      "source": [
        "df_attention.head()"
      ],
      "execution_count": 34,
      "outputs": [
        {
          "output_type": "execute_result",
          "data": {
            "text/html": [
              "<div>\n",
              "<style scoped>\n",
              "    .dataframe tbody tr th:only-of-type {\n",
              "        vertical-align: middle;\n",
              "    }\n",
              "\n",
              "    .dataframe tbody tr th {\n",
              "        vertical-align: top;\n",
              "    }\n",
              "\n",
              "    .dataframe thead th {\n",
              "        text-align: right;\n",
              "    }\n",
              "</style>\n",
              "<table border=\"1\" class=\"dataframe\">\n",
              "  <thead>\n",
              "    <tr style=\"text-align: right;\">\n",
              "      <th></th>\n",
              "      <th>ping pair</th>\n",
              "      <th>score</th>\n",
              "    </tr>\n",
              "  </thead>\n",
              "  <tbody>\n",
              "    <tr>\n",
              "      <th>0</th>\n",
              "      <td>reparations bullshit</td>\n",
              "      <td>-0.478084</td>\n",
              "    </tr>\n",
              "    <tr>\n",
              "      <th>1</th>\n",
              "      <td>pain suffering</td>\n",
              "      <td>-0.477979</td>\n",
              "    </tr>\n",
              "    <tr>\n",
              "      <th>2</th>\n",
              "      <td>reparations stupid</td>\n",
              "      <td>-0.463342</td>\n",
              "    </tr>\n",
              "    <tr>\n",
              "      <th>3</th>\n",
              "      <td>reparations slavery</td>\n",
              "      <td>-0.459906</td>\n",
              "    </tr>\n",
              "    <tr>\n",
              "      <th>4</th>\n",
              "      <td>slavery reparations</td>\n",
              "      <td>-0.458670</td>\n",
              "    </tr>\n",
              "  </tbody>\n",
              "</table>\n",
              "</div>"
            ],
            "text/plain": [
              "              ping pair     score\n",
              "0  reparations bullshit -0.478084\n",
              "1        pain suffering -0.477979\n",
              "2    reparations stupid -0.463342\n",
              "3   reparations slavery -0.459906\n",
              "4   slavery reparations -0.458670"
            ]
          },
          "metadata": {
            "tags": []
          },
          "execution_count": 34
        }
      ]
    },
    {
      "cell_type": "code",
      "metadata": {
        "id": "84Q-eSu-2doC",
        "colab_type": "code",
        "colab": {}
      },
      "source": [
        "from sklearn.utils.validation import check_is_fitted\n",
        "from sklearn.utils.validation import column_or_1d"
      ],
      "execution_count": 0,
      "outputs": []
    },
    {
      "cell_type": "code",
      "metadata": {
        "id": "3VliGuvL0_cP",
        "colab_type": "code",
        "colab": {}
      },
      "source": [
        "class TolerantLabelEncoder(LabelEncoder):\n",
        "    def __init__(self, ignore_unknown=False,\n",
        "                       unknown_original_value='unknown', \n",
        "                       unknown_encoded_value=-1):\n",
        "        self.ignore_unknown = ignore_unknown\n",
        "        self.unknown_original_value = unknown_original_value\n",
        "        self.unknown_encoded_value = unknown_encoded_value\n",
        "\n",
        "    def transform(self, y):\n",
        "        check_is_fitted(self, 'classes_')\n",
        "        y = column_or_1d(y, warn=True)\n",
        "\n",
        "        indices = np.isin(y, self.classes_)\n",
        "        if not self.ignore_unknown and not np.all(indices):\n",
        "            raise ValueError(\"y contains new labels: %s\" \n",
        "                                         % str(np.setdiff1d(y, self.classes_)))\n",
        "\n",
        "        y_transformed = np.searchsorted(self.classes_, y)\n",
        "        y_transformed[~indices]=self.unknown_encoded_value\n",
        "        return y_transformed\n",
        "\n",
        "    def inverse_transform(self, y):\n",
        "        check_is_fitted(self, 'classes_')\n",
        "\n",
        "        labels = np.arange(len(self.classes_))\n",
        "        indices = np.isin(y, labels)\n",
        "        if not self.ignore_unknown and not np.all(indices):\n",
        "            raise ValueError(\"y contains new labels: %s\" \n",
        "                                         % str(np.setdiff1d(y, self.classes_)))\n",
        "\n",
        "        y_transformed = np.asarray(self.classes_[y], dtype=object)\n",
        "        y_transformed[~indices]=self.unknown_original_value\n",
        "        return y_transformed"
      ],
      "execution_count": 0,
      "outputs": []
    },
    {
      "cell_type": "code",
      "metadata": {
        "id": "JYeCpS4fuuTG",
        "colab_type": "code",
        "outputId": "a93007bd-2680-4939-80f4-403d64c9df96",
        "colab": {
          "base_uri": "https://localhost:8080/",
          "height": 445
        }
      },
      "source": [
        "train_size = int(len(df_repar) * .7)\n",
        "train_posts = df_repar['clean_text'][:train_size]\n",
        "train_tags = df_repar['compound'][:train_size]\n",
        "\n",
        "test_posts = df_repar['clean_text'][train_size:]\n",
        "test_tags = df_repar['compound'][train_size:]\n",
        "\n",
        "max_words = 1000\n",
        "tokenize = text.Tokenizer(num_words=max_words, char_level=False)\n",
        "tokenize.fit_on_texts(train_posts) # only fit on train\n",
        "\n",
        "x_train = tokenize.texts_to_matrix(train_posts)\n",
        "x_test = tokenize.texts_to_matrix(test_posts)\n",
        "\n",
        "\n",
        "encoder = TolerantLabelEncoder()\n",
        "encoder.fit(train_tags)\n",
        "y_train = encoder.transform(train_tags)\n",
        "y_test = encoder.fit_transform(test_tags)\n",
        "\n",
        "num_classes = np.max(y_train) + 1\n",
        "y_train = utils.to_categorical(y_train, num_classes)\n",
        "y_test = utils.to_categorical(y_test, num_classes)\n",
        "\n",
        "batch_size = 32\n",
        "epochs = 2\n",
        "\n",
        "# Build the model\n",
        "model = Sequential()\n",
        "model.add(Dense(512, input_shape=(max_words,)))\n",
        "model.add(Activation('relu'))\n",
        "model.add(Dropout(0.5))\n",
        "model.add(Dense(num_classes))\n",
        "model.add(Activation('softmax'))\n",
        "\n",
        "model.compile(loss='categorical_crossentropy',\n",
        "              optimizer='Adagrad',\n",
        "              metrics=['accuracy'])\n",
        "              \n",
        "history = model.fit(x_train, y_train,\n",
        "                    batch_size=batch_size,\n",
        "                    epochs=epochs,\n",
        "                    verbose=1,\n",
        "                    validation_split=0.1)"
      ],
      "execution_count": 37,
      "outputs": [
        {
          "output_type": "stream",
          "text": [
            "WARNING: Logging before flag parsing goes to stderr.\n",
            "W0712 15:19:15.323816 140703541794688 deprecation_wrapper.py:119] From /usr/local/lib/python3.6/dist-packages/keras/backend/tensorflow_backend.py:74: The name tf.get_default_graph is deprecated. Please use tf.compat.v1.get_default_graph instead.\n",
            "\n",
            "W0712 15:19:15.362080 140703541794688 deprecation_wrapper.py:119] From /usr/local/lib/python3.6/dist-packages/keras/backend/tensorflow_backend.py:517: The name tf.placeholder is deprecated. Please use tf.compat.v1.placeholder instead.\n",
            "\n",
            "W0712 15:19:15.371611 140703541794688 deprecation_wrapper.py:119] From /usr/local/lib/python3.6/dist-packages/keras/backend/tensorflow_backend.py:4138: The name tf.random_uniform is deprecated. Please use tf.random.uniform instead.\n",
            "\n",
            "W0712 15:19:15.401221 140703541794688 deprecation_wrapper.py:119] From /usr/local/lib/python3.6/dist-packages/keras/backend/tensorflow_backend.py:133: The name tf.placeholder_with_default is deprecated. Please use tf.compat.v1.placeholder_with_default instead.\n",
            "\n",
            "W0712 15:19:15.414145 140703541794688 deprecation.py:506] From /usr/local/lib/python3.6/dist-packages/keras/backend/tensorflow_backend.py:3445: calling dropout (from tensorflow.python.ops.nn_ops) with keep_prob is deprecated and will be removed in a future version.\n",
            "Instructions for updating:\n",
            "Please use `rate` instead of `keep_prob`. Rate should be set to `rate = 1 - keep_prob`.\n",
            "W0712 15:19:15.447829 140703541794688 deprecation_wrapper.py:119] From /usr/local/lib/python3.6/dist-packages/keras/optimizers.py:790: The name tf.train.Optimizer is deprecated. Please use tf.compat.v1.train.Optimizer instead.\n",
            "\n",
            "W0712 15:19:15.475630 140703541794688 deprecation_wrapper.py:119] From /usr/local/lib/python3.6/dist-packages/keras/backend/tensorflow_backend.py:3295: The name tf.log is deprecated. Please use tf.math.log instead.\n",
            "\n",
            "W0712 15:19:15.628391 140703541794688 deprecation.py:323] From /usr/local/lib/python3.6/dist-packages/tensorflow/python/ops/math_grad.py:1250: add_dispatch_support.<locals>.wrapper (from tensorflow.python.ops.array_ops) is deprecated and will be removed in a future version.\n",
            "Instructions for updating:\n",
            "Use tf.where in 2.0, which has the same broadcast rule as np.where\n"
          ],
          "name": "stderr"
        },
        {
          "output_type": "stream",
          "text": [
            "Train on 37800 samples, validate on 4200 samples\n",
            "Epoch 1/2\n",
            "37800/37800 [==============================] - 81s 2ms/step - loss: 5.6873 - acc: 0.2560 - val_loss: 5.3404 - val_acc: 0.2802\n",
            "Epoch 2/2\n",
            "37800/37800 [==============================] - 78s 2ms/step - loss: 5.1644 - acc: 0.2725 - val_loss: 5.2974 - val_acc: 0.2857\n"
          ],
          "name": "stdout"
        }
      ]
    },
    {
      "cell_type": "code",
      "metadata": {
        "id": "c0YtO6sFDO7c",
        "colab_type": "code",
        "colab": {
          "base_uri": "https://localhost:8080/",
          "height": 34
        },
        "outputId": "f86de679-d681-49e7-8384-eba61c11178a"
      },
      "source": [
        "len(repar_tweets)"
      ],
      "execution_count": 38,
      "outputs": [
        {
          "output_type": "execute_result",
          "data": {
            "text/plain": [
              "60000"
            ]
          },
          "metadata": {
            "tags": []
          },
          "execution_count": 38
        }
      ]
    },
    {
      "cell_type": "code",
      "metadata": {
        "id": "YuEWbaHqnWTw",
        "colab_type": "code",
        "colab": {}
      },
      "source": [
        "history.on_epoch_end(epoch= 'Epoch 12/12')"
      ],
      "execution_count": 0,
      "outputs": []
    },
    {
      "cell_type": "code",
      "metadata": {
        "id": "5e30cPs07z6b",
        "colab_type": "code",
        "outputId": "eded60d9-fae0-45a7-8cb3-1fe972840d86",
        "colab": {
          "base_uri": "https://localhost:8080/",
          "height": 238
        }
      },
      "source": [
        "\n",
        "history.model.predict(x_test)\n",
        "\n",
        "#model.predict(x_test)"
      ],
      "execution_count": 40,
      "outputs": [
        {
          "output_type": "execute_result",
          "data": {
            "text/plain": [
              "array([[3.91564972e-05, 3.58275393e-05, 2.35838488e-05, ...,\n",
              "        2.69744978e-05, 4.92191466e-05, 6.71449307e-05],\n",
              "       [3.59915102e-05, 4.68307553e-05, 2.66431452e-05, ...,\n",
              "        3.83415318e-05, 7.41149343e-05, 5.05082171e-05],\n",
              "       [3.63293802e-05, 6.35521283e-05, 2.45162391e-05, ...,\n",
              "        3.16697369e-05, 8.08040131e-05, 4.19429853e-05],\n",
              "       ...,\n",
              "       [4.00537210e-05, 5.84480767e-05, 2.74587728e-05, ...,\n",
              "        3.56572818e-05, 4.84936681e-05, 3.66787244e-05],\n",
              "       [8.68078059e-05, 1.07069296e-04, 5.92396282e-05, ...,\n",
              "        7.90431732e-05, 6.66795167e-05, 9.26369394e-05],\n",
              "       [1.88120339e-06, 4.81364441e-06, 1.23867017e-06, ...,\n",
              "        1.68481779e-06, 4.27724262e-06, 1.79644564e-06]], dtype=float32)"
            ]
          },
          "metadata": {
            "tags": []
          },
          "execution_count": 40
        }
      ]
    },
    {
      "cell_type": "code",
      "metadata": {
        "id": "VcvUV4k6uuHt",
        "colab_type": "code",
        "outputId": "b4452063-e76d-4de5-eb4b-ed2ec8f0a686",
        "colab": {
          "base_uri": "https://localhost:8080/",
          "height": 51
        }
      },
      "source": [
        "score = history.model.evaluate(x_test, y_test, batch_size=batch_size, verbose=1)\n",
        "print('Test accuracy:', score[0])"
      ],
      "execution_count": 41,
      "outputs": [
        {
          "output_type": "stream",
          "text": [
            "18000/18000 [==============================] - 7s 393us/step\n",
            "Test accuracy: 11.267915066189236\n"
          ],
          "name": "stdout"
        }
      ]
    },
    {
      "cell_type": "code",
      "metadata": {
        "id": "KaeNLDEBuL_t",
        "colab_type": "code",
        "outputId": "92d64c96-bc8a-49bd-dfa8-64746cab536e",
        "colab": {
          "base_uri": "https://localhost:8080/",
          "height": 204
        }
      },
      "source": [
        "df_repar.head()"
      ],
      "execution_count": 42,
      "outputs": [
        {
          "output_type": "execute_result",
          "data": {
            "text/html": [
              "<div>\n",
              "<style scoped>\n",
              "    .dataframe tbody tr th:only-of-type {\n",
              "        vertical-align: middle;\n",
              "    }\n",
              "\n",
              "    .dataframe tbody tr th {\n",
              "        vertical-align: top;\n",
              "    }\n",
              "\n",
              "    .dataframe thead th {\n",
              "        text-align: right;\n",
              "    }\n",
              "</style>\n",
              "<table border=\"1\" class=\"dataframe\">\n",
              "  <thead>\n",
              "    <tr style=\"text-align: right;\">\n",
              "      <th></th>\n",
              "      <th>tweet</th>\n",
              "      <th>compound</th>\n",
              "      <th>negative</th>\n",
              "      <th>neutral</th>\n",
              "      <th>positive</th>\n",
              "      <th>clean_text</th>\n",
              "    </tr>\n",
              "  </thead>\n",
              "  <tbody>\n",
              "    <tr>\n",
              "      <th>0</th>\n",
              "      <td>I don’t think they deserve reparations they st...</td>\n",
              "      <td>-0.4939</td>\n",
              "      <td>0.186</td>\n",
              "      <td>0.814</td>\n",
              "      <td>0.000</td>\n",
              "      <td>dont think deserve reparations steal enough ma...</td>\n",
              "    </tr>\n",
              "    <tr>\n",
              "      <th>1</th>\n",
              "      <td>If you listen to Rush, you’d already know that...</td>\n",
              "      <td>0.1027</td>\n",
              "      <td>0.000</td>\n",
              "      <td>0.949</td>\n",
              "      <td>0.051</td>\n",
              "      <td>listen rush youd already know guess shell payi...</td>\n",
              "    </tr>\n",
              "    <tr>\n",
              "      <th>2</th>\n",
              "      <td>Uber reparations: my new passion project</td>\n",
              "      <td>0.4588</td>\n",
              "      <td>0.000</td>\n",
              "      <td>0.625</td>\n",
              "      <td>0.375</td>\n",
              "      <td>uber reparations new passion project</td>\n",
              "    </tr>\n",
              "    <tr>\n",
              "      <th>3</th>\n",
              "      <td>What I’m about to say may and may not offend y...</td>\n",
              "      <td>0.7626</td>\n",
              "      <td>0.000</td>\n",
              "      <td>0.856</td>\n",
              "      <td>0.144</td>\n",
              "      <td>im say may may offend #isreal done people amer...</td>\n",
              "    </tr>\n",
              "    <tr>\n",
              "      <th>4</th>\n",
              "      <td>@JacksonLeeTX18 #ados don’t deserve this we ar...</td>\n",
              "      <td>-0.8257</td>\n",
              "      <td>0.181</td>\n",
              "      <td>0.749</td>\n",
              "      <td>0.070</td>\n",
              "      <td>jacksonleetx18 #ados dont deserve still slaves...</td>\n",
              "    </tr>\n",
              "  </tbody>\n",
              "</table>\n",
              "</div>"
            ],
            "text/plain": [
              "                                               tweet  ...                                         clean_text\n",
              "0  I don’t think they deserve reparations they st...  ...  dont think deserve reparations steal enough ma...\n",
              "1  If you listen to Rush, you’d already know that...  ...  listen rush youd already know guess shell payi...\n",
              "2           Uber reparations: my new passion project  ...               uber reparations new passion project\n",
              "3  What I’m about to say may and may not offend y...  ...  im say may may offend #isreal done people amer...\n",
              "4  @JacksonLeeTX18 #ados don’t deserve this we ar...  ...  jacksonleetx18 #ados dont deserve still slaves...\n",
              "\n",
              "[5 rows x 6 columns]"
            ]
          },
          "metadata": {
            "tags": []
          },
          "execution_count": 42
        }
      ]
    },
    {
      "cell_type": "code",
      "metadata": {
        "id": "7nJFeaaqvjx6",
        "colab_type": "code",
        "colab": {
          "base_uri": "https://localhost:8080/",
          "height": 669
        },
        "outputId": "4ed69d72-1821-413a-8a27-2b605dfab036"
      },
      "source": [
        "df_attention[294059:294079]"
      ],
      "execution_count": 53,
      "outputs": [
        {
          "output_type": "execute_result",
          "data": {
            "text/html": [
              "<div>\n",
              "<style scoped>\n",
              "    .dataframe tbody tr th:only-of-type {\n",
              "        vertical-align: middle;\n",
              "    }\n",
              "\n",
              "    .dataframe tbody tr th {\n",
              "        vertical-align: top;\n",
              "    }\n",
              "\n",
              "    .dataframe thead th {\n",
              "        text-align: right;\n",
              "    }\n",
              "</style>\n",
              "<table border=\"1\" class=\"dataframe\">\n",
              "  <thead>\n",
              "    <tr style=\"text-align: right;\">\n",
              "      <th></th>\n",
              "      <th>ping pair</th>\n",
              "      <th>score</th>\n",
              "    </tr>\n",
              "  </thead>\n",
              "  <tbody>\n",
              "    <tr>\n",
              "      <th>294059</th>\n",
              "      <td>history means</td>\n",
              "      <td>0.339130</td>\n",
              "    </tr>\n",
              "    <tr>\n",
              "      <th>294060</th>\n",
              "      <td>lol reparations</td>\n",
              "      <td>0.346998</td>\n",
              "    </tr>\n",
              "    <tr>\n",
              "      <th>294061</th>\n",
              "      <td>great great</td>\n",
              "      <td>0.351103</td>\n",
              "    </tr>\n",
              "    <tr>\n",
              "      <th>294062</th>\n",
              "      <td>god bless</td>\n",
              "      <td>0.358599</td>\n",
              "    </tr>\n",
              "    <tr>\n",
              "      <th>294063</th>\n",
              "      <td>love reparations</td>\n",
              "      <td>0.363810</td>\n",
              "    </tr>\n",
              "    <tr>\n",
              "      <th>294064</th>\n",
              "      <td>joke https</td>\n",
              "      <td>0.371377</td>\n",
              "    </tr>\n",
              "    <tr>\n",
              "      <th>294065</th>\n",
              "      <td>reparations lmao</td>\n",
              "      <td>0.374410</td>\n",
              "    </tr>\n",
              "    <tr>\n",
              "      <th>294066</th>\n",
              "      <td>best reparations</td>\n",
              "      <td>0.382070</td>\n",
              "    </tr>\n",
              "    <tr>\n",
              "      <th>294067</th>\n",
              "      <td>great reparations</td>\n",
              "      <td>0.386090</td>\n",
              "    </tr>\n",
              "    <tr>\n",
              "      <th>294068</th>\n",
              "      <td>means slavery</td>\n",
              "      <td>0.387728</td>\n",
              "    </tr>\n",
              "    <tr>\n",
              "      <th>294069</th>\n",
              "      <td>best argument</td>\n",
              "      <td>0.393979</td>\n",
              "    </tr>\n",
              "    <tr>\n",
              "      <th>294070</th>\n",
              "      <td>wow reparations</td>\n",
              "      <td>0.397589</td>\n",
              "    </tr>\n",
              "    <tr>\n",
              "      <th>294071</th>\n",
              "      <td>fool paradise</td>\n",
              "      <td>0.409414</td>\n",
              "    </tr>\n",
              "    <tr>\n",
              "      <th>294072</th>\n",
              "      <td>win reparations</td>\n",
              "      <td>0.409997</td>\n",
              "    </tr>\n",
              "    <tr>\n",
              "      <th>294073</th>\n",
              "      <td>pretty sure</td>\n",
              "      <td>0.411212</td>\n",
              "    </tr>\n",
              "    <tr>\n",
              "      <th>294074</th>\n",
              "      <td>reparations better</td>\n",
              "      <td>0.420885</td>\n",
              "    </tr>\n",
              "    <tr>\n",
              "      <th>294075</th>\n",
              "      <td>yes yes</td>\n",
              "      <td>0.425181</td>\n",
              "    </tr>\n",
              "    <tr>\n",
              "      <th>294076</th>\n",
              "      <td>good luck</td>\n",
              "      <td>0.463126</td>\n",
              "    </tr>\n",
              "    <tr>\n",
              "      <th>294077</th>\n",
              "      <td>happy juneteenth</td>\n",
              "      <td>0.509628</td>\n",
              "    </tr>\n",
              "    <tr>\n",
              "      <th>294078</th>\n",
              "      <td>panel told</td>\n",
              "      <td>0.541500</td>\n",
              "    </tr>\n",
              "  </tbody>\n",
              "</table>\n",
              "</div>"
            ],
            "text/plain": [
              "                 ping pair     score\n",
              "294059       history means  0.339130\n",
              "294060     lol reparations  0.346998\n",
              "294061         great great  0.351103\n",
              "294062           god bless  0.358599\n",
              "294063    love reparations  0.363810\n",
              "294064          joke https  0.371377\n",
              "294065    reparations lmao  0.374410\n",
              "294066    best reparations  0.382070\n",
              "294067   great reparations  0.386090\n",
              "294068       means slavery  0.387728\n",
              "294069       best argument  0.393979\n",
              "294070     wow reparations  0.397589\n",
              "294071       fool paradise  0.409414\n",
              "294072     win reparations  0.409997\n",
              "294073         pretty sure  0.411212\n",
              "294074  reparations better  0.420885\n",
              "294075             yes yes  0.425181\n",
              "294076           good luck  0.463126\n",
              "294077    happy juneteenth  0.509628\n",
              "294078          panel told  0.541500"
            ]
          },
          "metadata": {
            "tags": []
          },
          "execution_count": 53
        }
      ]
    },
    {
      "cell_type": "code",
      "metadata": {
        "id": "xYpBtnJi2s8F",
        "colab_type": "code",
        "colab": {
          "base_uri": "https://localhost:8080/",
          "height": 122
        },
        "outputId": "356e54a5-4bb8-4a13-cf05-8cf53e4a30cf"
      },
      "source": [
        "from google.colab import drive\n",
        "drive.mount('drive')"
      ],
      "execution_count": 46,
      "outputs": [
        {
          "output_type": "stream",
          "text": [
            "Go to this URL in a browser: https://accounts.google.com/o/oauth2/auth?client_id=947318989803-6bn6qk8qdgf4n4g3pfee6491hc0brc4i.apps.googleusercontent.com&redirect_uri=urn%3Aietf%3Awg%3Aoauth%3A2.0%3Aoob&scope=email%20https%3A%2F%2Fwww.googleapis.com%2Fauth%2Fdocs.test%20https%3A%2F%2Fwww.googleapis.com%2Fauth%2Fdrive%20https%3A%2F%2Fwww.googleapis.com%2Fauth%2Fdrive.photos.readonly%20https%3A%2F%2Fwww.googleapis.com%2Fauth%2Fpeopleapi.readonly&response_type=code\n",
            "\n",
            "Enter your authorization code:\n",
            "··········\n",
            "Mounted at drive\n"
          ],
          "name": "stdout"
        }
      ]
    },
    {
      "cell_type": "code",
      "metadata": {
        "id": "ySnbi7Wt8x8y",
        "colab_type": "code",
        "colab": {}
      },
      "source": [
        "df_attention.to_csv('reparations_pingwords.csv')\n",
        "!cp reparations_pingwords.csv drive/My\\ Drive/\n"
      ],
      "execution_count": 0,
      "outputs": []
    }
  ]
}