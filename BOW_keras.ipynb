{
  "nbformat": 4,
  "nbformat_minor": 0,
  "metadata": {
    "colab": {
      "name": "BOW_keras.ipynb",
      "version": "0.3.2",
      "provenance": [],
      "collapsed_sections": [],
      "include_colab_link": true
    },
    "kernelspec": {
      "name": "python3",
      "display_name": "Python 3"
    }
  },
  "cells": [
    {
      "cell_type": "markdown",
      "metadata": {
        "id": "view-in-github",
        "colab_type": "text"
      },
      "source": [
        "<a href=\"https://colab.research.google.com/github/cfarhutchins/technical_direction_service/blob/master/BOW_keras.ipynb\" target=\"_parent\"><img src=\"https://colab.research.google.com/assets/colab-badge.svg\" alt=\"Open In Colab\"/></a>"
      ]
    },
    {
      "cell_type": "code",
      "metadata": {
        "id": "5rCn5NSosYmN",
        "colab_type": "code",
        "colab": {
          "base_uri": "https://localhost:8080/",
          "height": 34
        },
        "outputId": "cceebf9c-edcc-4325-fa13-f1f8c450a74a"
      },
      "source": [
        "import itertools\n",
        "import os\n",
        "\n",
        "%matplotlib inline\n",
        "import matplotlib.pyplot as plt\n",
        "import numpy as np\n",
        "import pandas as pd\n",
        "import tensorflow as tf\n",
        "\n",
        "from sklearn.preprocessing import LabelBinarizer, LabelEncoder\n",
        "from sklearn.metrics import confusion_matrix\n",
        "\n",
        "from tensorflow import keras\n",
        "from keras.models import Sequential\n",
        "from keras.layers import Dense, Activation, Dropout\n",
        "from keras.preprocessing import text, sequence\n",
        "from keras import utils\n",
        "\n"
      ],
      "execution_count": 1,
      "outputs": [
        {
          "output_type": "stream",
          "text": [
            "Using TensorFlow backend.\n"
          ],
          "name": "stderr"
        }
      ]
    },
    {
      "cell_type": "code",
      "metadata": {
        "id": "XJPPQH2ZURpR",
        "colab_type": "code",
        "outputId": "85c471ac-7280-4b3a-924e-4af0ecc3a696",
        "colab": {
          "base_uri": "https://localhost:8080/",
          "height": 85
        }
      },
      "source": [
        "pip install GetOldTweets3"
      ],
      "execution_count": 2,
      "outputs": [
        {
          "output_type": "stream",
          "text": [
            "Requirement already satisfied: GetOldTweets3 in /usr/local/lib/python3.6/dist-packages (0.0.10)\n",
            "Requirement already satisfied: pyquery>=1.2.10 in /usr/local/lib/python3.6/dist-packages (from GetOldTweets3) (1.4.0)\n",
            "Requirement already satisfied: lxml>=3.5.0 in /usr/local/lib/python3.6/dist-packages (from GetOldTweets3) (4.2.6)\n",
            "Requirement already satisfied: cssselect>0.7.9 in /usr/local/lib/python3.6/dist-packages (from pyquery>=1.2.10->GetOldTweets3) (1.0.3)\n"
          ],
          "name": "stdout"
        }
      ]
    },
    {
      "cell_type": "code",
      "metadata": {
        "id": "J2Fq_qt3tbBH",
        "colab_type": "code",
        "colab": {}
      },
      "source": [
        "import GetOldTweets3 as got"
      ],
      "execution_count": 0,
      "outputs": []
    },
    {
      "cell_type": "code",
      "metadata": {
        "id": "BIUpmjJatejb",
        "colab_type": "code",
        "colab": {}
      },
      "source": [
        "tweetCriteria = got.manager.TweetCriteria().setQuerySearch('reparations')\\\n",
        "                                           .setSince('2019-07-04')\\\n",
        "                                           .setUntil('2019-07-10')\\\n",
        "                                           .setMaxTweets(30000)\n",
        "tweet = got.manager.TweetManager.getTweets(tweetCriteria)\n",
        "\n",
        "repar_tweets = []\n",
        "\n",
        "for i in tweet:\n",
        "  repar_tweets.append(i.text)"
      ],
      "execution_count": 0,
      "outputs": []
    },
    {
      "cell_type": "code",
      "metadata": {
        "id": "hRydj32QwCSW",
        "colab_type": "code",
        "colab": {}
      },
      "source": [
        "from sklearn.feature_extraction.text import CountVectorizer"
      ],
      "execution_count": 0,
      "outputs": []
    },
    {
      "cell_type": "code",
      "metadata": {
        "id": "Eg7USgbyvLlF",
        "colab_type": "code",
        "outputId": "57507452-342f-4656-8184-7836ad59184a",
        "colab": {
          "base_uri": "https://localhost:8080/",
          "height": 122
        }
      },
      "source": [
        "pip install vaderSentiment"
      ],
      "execution_count": 6,
      "outputs": [
        {
          "output_type": "stream",
          "text": [
            "Collecting vaderSentiment\n",
            "\u001b[?25l  Downloading https://files.pythonhosted.org/packages/86/9e/c53e1fc61aac5ee490a6ac5e21b1ac04e55a7c2aba647bb8411c9aadf24e/vaderSentiment-3.2.1-py2.py3-none-any.whl (125kB)\n",
            "\u001b[K     |████████████████████████████████| 133kB 562kB/s \n",
            "\u001b[?25hInstalling collected packages: vaderSentiment\n",
            "Successfully installed vaderSentiment-3.2.1\n"
          ],
          "name": "stdout"
        }
      ]
    },
    {
      "cell_type": "code",
      "metadata": {
        "id": "oRUS9HMJvNu_",
        "colab_type": "code",
        "colab": {}
      },
      "source": [
        "from vaderSentiment.vaderSentiment import SentimentIntensityAnalyzer"
      ],
      "execution_count": 0,
      "outputs": []
    },
    {
      "cell_type": "code",
      "metadata": {
        "id": "LHHcdxhUvgx0",
        "colab_type": "code",
        "colab": {}
      },
      "source": [
        "analyzer = SentimentIntensityAnalyzer()"
      ],
      "execution_count": 0,
      "outputs": []
    },
    {
      "cell_type": "code",
      "metadata": {
        "id": "buluKu2ltecd",
        "colab_type": "code",
        "colab": {}
      },
      "source": [
        "df_repar = pd.DataFrame(repar_tweets)\n",
        "df_repar.rename(columns={0:'tweet'}, inplace= True)\n",
        "df_repar['feels'] = df_repar['tweet'].apply(lambda i: analyzer.polarity_scores(i))\n",
        "compound = []\n",
        "\n",
        "for dct in df_repar['feels']:\n",
        "  compound.append(dct['compound'])\n",
        "\n",
        "negative = []\n",
        "  \n",
        "for dct in df_repar['feels']:\n",
        "  negative.append(dct['neg'])\n",
        "  \n",
        "neutral = [] \n",
        "  \n",
        "for dct in df_repar['feels']:\n",
        "  neutral.append(dct['neu'])\n",
        "  \n",
        "positive = []\n",
        "\n",
        "for dct in df_repar['feels']:\n",
        "  positive.append(dct['pos'])\n",
        "  \n",
        "df_repar['compound'] = compound\n",
        "df_repar['negative'] = negative\n",
        "df_repar['neutral'] = neutral\n",
        "df_repar['positive'] = positive\n",
        "\n",
        "df_repar.drop(columns = 'feels', inplace = True)"
      ],
      "execution_count": 0,
      "outputs": []
    },
    {
      "cell_type": "code",
      "metadata": {
        "id": "1FYu3LCSvviq",
        "colab_type": "code",
        "colab": {
          "base_uri": "https://localhost:8080/",
          "height": 204
        },
        "outputId": "b0dc2de8-5a5e-4361-daaf-d9a0a213f49a"
      },
      "source": [
        "df_repar.head()"
      ],
      "execution_count": 83,
      "outputs": [
        {
          "output_type": "execute_result",
          "data": {
            "text/html": [
              "<div>\n",
              "<style scoped>\n",
              "    .dataframe tbody tr th:only-of-type {\n",
              "        vertical-align: middle;\n",
              "    }\n",
              "\n",
              "    .dataframe tbody tr th {\n",
              "        vertical-align: top;\n",
              "    }\n",
              "\n",
              "    .dataframe thead th {\n",
              "        text-align: right;\n",
              "    }\n",
              "</style>\n",
              "<table border=\"1\" class=\"dataframe\">\n",
              "  <thead>\n",
              "    <tr style=\"text-align: right;\">\n",
              "      <th></th>\n",
              "      <th>tweet</th>\n",
              "      <th>compound</th>\n",
              "      <th>negative</th>\n",
              "      <th>neutral</th>\n",
              "      <th>positive</th>\n",
              "    </tr>\n",
              "  </thead>\n",
              "  <tbody>\n",
              "    <tr>\n",
              "      <th>0</th>\n",
              "      <td>He needs to shut up. He wants google to provid...</td>\n",
              "      <td>0.0000</td>\n",
              "      <td>0.000</td>\n",
              "      <td>1.000</td>\n",
              "      <td>0.000</td>\n",
              "    </tr>\n",
              "    <tr>\n",
              "      <th>1</th>\n",
              "      <td>@BarackObama was a good lesson for Black Ameri...</td>\n",
              "      <td>-0.5095</td>\n",
              "      <td>0.189</td>\n",
              "      <td>0.735</td>\n",
              "      <td>0.076</td>\n",
              "    </tr>\n",
              "    <tr>\n",
              "      <th>2</th>\n",
              "      <td>Where are my reparations?? https://www.globalr...</td>\n",
              "      <td>0.0000</td>\n",
              "      <td>0.000</td>\n",
              "      <td>1.000</td>\n",
              "      <td>0.000</td>\n",
              "    </tr>\n",
              "    <tr>\n",
              "      <th>3</th>\n",
              "      <td>But the 1 point that made the most sense which...</td>\n",
              "      <td>-0.8685</td>\n",
              "      <td>0.223</td>\n",
              "      <td>0.650</td>\n",
              "      <td>0.127</td>\n",
              "    </tr>\n",
              "    <tr>\n",
              "      <th>4</th>\n",
              "      <td>Let's talk reparations: https://youtu.be/qSF95...</td>\n",
              "      <td>0.0000</td>\n",
              "      <td>0.000</td>\n",
              "      <td>1.000</td>\n",
              "      <td>0.000</td>\n",
              "    </tr>\n",
              "  </tbody>\n",
              "</table>\n",
              "</div>"
            ],
            "text/plain": [
              "                                               tweet  ...  positive\n",
              "0  He needs to shut up. He wants google to provid...  ...     0.000\n",
              "1  @BarackObama was a good lesson for Black Ameri...  ...     0.076\n",
              "2  Where are my reparations?? https://www.globalr...  ...     0.000\n",
              "3  But the 1 point that made the most sense which...  ...     0.127\n",
              "4  Let's talk reparations: https://youtu.be/qSF95...  ...     0.000\n",
              "\n",
              "[5 rows x 5 columns]"
            ]
          },
          "metadata": {
            "tags": []
          },
          "execution_count": 83
        }
      ]
    },
    {
      "cell_type": "code",
      "metadata": {
        "id": "qzRBjIYpwUBh",
        "colab_type": "code",
        "colab": {}
      },
      "source": [
        "cv = CountVectorizer(ngram_range=(2,2),binary=True, stop_words='english')\n"
      ],
      "execution_count": 0,
      "outputs": []
    },
    {
      "cell_type": "code",
      "metadata": {
        "id": "afZ6lRGOwf-l",
        "colab_type": "code",
        "colab": {}
      },
      "source": [
        "x = df_repar['tweet']\n",
        "y = df_repar['compound']\n",
        "\n"
      ],
      "execution_count": 0,
      "outputs": []
    },
    {
      "cell_type": "code",
      "metadata": {
        "id": "LeurgsVm1o1a",
        "colab_type": "code",
        "colab": {}
      },
      "source": [
        "from sklearn.model_selection import train_test_split, cross_val_score"
      ],
      "execution_count": 0,
      "outputs": []
    },
    {
      "cell_type": "code",
      "metadata": {
        "id": "b_dBYwqgsxCn",
        "colab_type": "code",
        "colab": {}
      },
      "source": [
        "x_train, x_test, y_train, y_test = train_test_split(x, y, test_size= .33)\n",
        "\n",
        "X_train = cv.fit_transform(x_train)\n",
        "\n",
        "X_test = cv.transform(x_test)"
      ],
      "execution_count": 0,
      "outputs": []
    },
    {
      "cell_type": "code",
      "metadata": {
        "id": "E56TwXh5xwT3",
        "colab_type": "code",
        "colab": {}
      },
      "source": [
        "from sklearn.linear_model import Ridge\n",
        "\n",
        "rdg = Ridge()"
      ],
      "execution_count": 0,
      "outputs": []
    },
    {
      "cell_type": "code",
      "metadata": {
        "id": "9i0ipicCyHiZ",
        "colab_type": "code",
        "colab": {
          "base_uri": "https://localhost:8080/",
          "height": 51
        },
        "outputId": "92bb2374-79bf-4a0c-a0a1-8d5fcf630e59"
      },
      "source": [
        "rdg.fit(X_train, y_train)"
      ],
      "execution_count": 89,
      "outputs": [
        {
          "output_type": "execute_result",
          "data": {
            "text/plain": [
              "Ridge(alpha=1.0, copy_X=True, fit_intercept=True, max_iter=None,\n",
              "      normalize=False, random_state=None, solver='auto', tol=0.001)"
            ]
          },
          "metadata": {
            "tags": []
          },
          "execution_count": 89
        }
      ]
    },
    {
      "cell_type": "code",
      "metadata": {
        "id": "Z5UwZzs8yR8C",
        "colab_type": "code",
        "colab": {
          "base_uri": "https://localhost:8080/",
          "height": 51
        },
        "outputId": "d3282873-6d4b-48a0-ba91-7d94b29257aa"
      },
      "source": [
        "rdg.predict(X_test)"
      ],
      "execution_count": 90,
      "outputs": [
        {
          "output_type": "execute_result",
          "data": {
            "text/plain": [
              "array([ 0.03209193,  0.07796892, -0.14909093, ...,  0.03531878,\n",
              "       -0.07548991, -0.09829616])"
            ]
          },
          "metadata": {
            "tags": []
          },
          "execution_count": 90
        }
      ]
    },
    {
      "cell_type": "code",
      "metadata": {
        "id": "NFihEbqAycKt",
        "colab_type": "code",
        "colab": {}
      },
      "source": [
        "rdg.score(X_test, y_test)\n",
        "pingwords = cv.get_feature_names()"
      ],
      "execution_count": 0,
      "outputs": []
    },
    {
      "cell_type": "code",
      "metadata": {
        "id": "__1bwZ7iyedw",
        "colab_type": "code",
        "colab": {}
      },
      "source": [
        "df_pingwords = pd.DataFrame(rdg.coef_, index = pingwords).sort_values(by=0)\n"
      ],
      "execution_count": 0,
      "outputs": []
    },
    {
      "cell_type": "code",
      "metadata": {
        "id": "6xf3qXQK10tH",
        "colab_type": "code",
        "colab": {
          "base_uri": "https://localhost:8080/",
          "height": 359
        },
        "outputId": "4db25b25-7511-4a17-d74d-51acb4e7f928"
      },
      "source": [
        "df_pingwords[0:10]"
      ],
      "execution_count": 93,
      "outputs": [
        {
          "output_type": "execute_result",
          "data": {
            "text/html": [
              "<div>\n",
              "<style scoped>\n",
              "    .dataframe tbody tr th:only-of-type {\n",
              "        vertical-align: middle;\n",
              "    }\n",
              "\n",
              "    .dataframe tbody tr th {\n",
              "        vertical-align: top;\n",
              "    }\n",
              "\n",
              "    .dataframe thead th {\n",
              "        text-align: right;\n",
              "    }\n",
              "</style>\n",
              "<table border=\"1\" class=\"dataframe\">\n",
              "  <thead>\n",
              "    <tr style=\"text-align: right;\">\n",
              "      <th></th>\n",
              "      <th>0</th>\n",
              "    </tr>\n",
              "  </thead>\n",
              "  <tbody>\n",
              "    <tr>\n",
              "      <th>descendants slavery</th>\n",
              "      <td>-0.520394</td>\n",
              "    </tr>\n",
              "    <tr>\n",
              "      <th>slavery reparations</th>\n",
              "      <td>-0.481669</td>\n",
              "    </tr>\n",
              "    <tr>\n",
              "      <th>reparations slavery</th>\n",
              "      <td>-0.465316</td>\n",
              "    </tr>\n",
              "    <tr>\n",
              "      <th>reparations stupid</th>\n",
              "      <td>-0.462062</td>\n",
              "    </tr>\n",
              "    <tr>\n",
              "      <th>hell reparations</th>\n",
              "      <td>-0.411688</td>\n",
              "    </tr>\n",
              "    <tr>\n",
              "      <th>reparations bullshit</th>\n",
              "      <td>-0.398558</td>\n",
              "    </tr>\n",
              "    <tr>\n",
              "      <th>civil war</th>\n",
              "      <td>-0.378630</td>\n",
              "    </tr>\n",
              "    <tr>\n",
              "      <th>pain suffering</th>\n",
              "      <td>-0.377374</td>\n",
              "    </tr>\n",
              "    <tr>\n",
              "      <th>reparations stealing</th>\n",
              "      <td>-0.360721</td>\n",
              "    </tr>\n",
              "    <tr>\n",
              "      <th>crazy shit</th>\n",
              "      <td>-0.352386</td>\n",
              "    </tr>\n",
              "  </tbody>\n",
              "</table>\n",
              "</div>"
            ],
            "text/plain": [
              "                             0\n",
              "descendants slavery  -0.520394\n",
              "slavery reparations  -0.481669\n",
              "reparations slavery  -0.465316\n",
              "reparations stupid   -0.462062\n",
              "hell reparations     -0.411688\n",
              "reparations bullshit -0.398558\n",
              "civil war            -0.378630\n",
              "pain suffering       -0.377374\n",
              "reparations stealing -0.360721\n",
              "crazy shit           -0.352386"
            ]
          },
          "metadata": {
            "tags": []
          },
          "execution_count": 93
        }
      ]
    },
    {
      "cell_type": "code",
      "metadata": {
        "id": "gzKomtu213Ho",
        "colab_type": "code",
        "colab": {}
      },
      "source": [
        "pingwords_lst = []\n",
        "\n",
        "for i in pingwords:\n",
        "  pingwords_lst.append(i)"
      ],
      "execution_count": 0,
      "outputs": []
    },
    {
      "cell_type": "code",
      "metadata": {
        "id": "ovqGCOTejrXv",
        "colab_type": "code",
        "colab": {
          "base_uri": "https://localhost:8080/",
          "height": 34
        },
        "outputId": "4dd1a71e-c3fa-450f-b747-b5b02b157749"
      },
      "source": [
        "print(df_repar['tweet'].apply(lambda x: len(x.split(' '))).sum())"
      ],
      "execution_count": 95,
      "outputs": [
        {
          "output_type": "stream",
          "text": [
            "677997\n"
          ],
          "name": "stdout"
        }
      ]
    },
    {
      "cell_type": "code",
      "metadata": {
        "id": "xGu2F6bBjswH",
        "colab_type": "code",
        "colab": {}
      },
      "source": [
        "df_pingwords = df_pingwords.index\n",
        "  "
      ],
      "execution_count": 0,
      "outputs": []
    },
    {
      "cell_type": "code",
      "metadata": {
        "id": "j-vIVDjysQex",
        "colab_type": "code",
        "colab": {}
      },
      "source": [
        "pingwords_lst = df_pingwords.to_list()"
      ],
      "execution_count": 0,
      "outputs": []
    },
    {
      "cell_type": "code",
      "metadata": {
        "id": "Rp8x-qTvs8Vz",
        "colab_type": "code",
        "colab": {}
      },
      "source": [
        "df_pingwords = pd.DataFrame(pingwords_lst)"
      ],
      "execution_count": 0,
      "outputs": []
    },
    {
      "cell_type": "code",
      "metadata": {
        "id": "4moyUkYBtdj-",
        "colab_type": "code",
        "colab": {
          "base_uri": "https://localhost:8080/",
          "height": 1000
        },
        "outputId": "31eda38b-d5ac-48cc-d855-589196183290"
      },
      "source": [
        "df_pingwords"
      ],
      "execution_count": 99,
      "outputs": [
        {
          "output_type": "execute_result",
          "data": {
            "text/html": [
              "<div>\n",
              "<style scoped>\n",
              "    .dataframe tbody tr th:only-of-type {\n",
              "        vertical-align: middle;\n",
              "    }\n",
              "\n",
              "    .dataframe tbody tr th {\n",
              "        vertical-align: top;\n",
              "    }\n",
              "\n",
              "    .dataframe thead th {\n",
              "        text-align: right;\n",
              "    }\n",
              "</style>\n",
              "<table border=\"1\" class=\"dataframe\">\n",
              "  <thead>\n",
              "    <tr style=\"text-align: right;\">\n",
              "      <th></th>\n",
              "      <th>0</th>\n",
              "    </tr>\n",
              "  </thead>\n",
              "  <tbody>\n",
              "    <tr>\n",
              "      <th>0</th>\n",
              "      <td>descendants slavery</td>\n",
              "    </tr>\n",
              "    <tr>\n",
              "      <th>1</th>\n",
              "      <td>slavery reparations</td>\n",
              "    </tr>\n",
              "    <tr>\n",
              "      <th>2</th>\n",
              "      <td>reparations slavery</td>\n",
              "    </tr>\n",
              "    <tr>\n",
              "      <th>3</th>\n",
              "      <td>reparations stupid</td>\n",
              "    </tr>\n",
              "    <tr>\n",
              "      <th>4</th>\n",
              "      <td>hell reparations</td>\n",
              "    </tr>\n",
              "    <tr>\n",
              "      <th>5</th>\n",
              "      <td>reparations bullshit</td>\n",
              "    </tr>\n",
              "    <tr>\n",
              "      <th>6</th>\n",
              "      <td>civil war</td>\n",
              "    </tr>\n",
              "    <tr>\n",
              "      <th>7</th>\n",
              "      <td>pain suffering</td>\n",
              "    </tr>\n",
              "    <tr>\n",
              "      <th>8</th>\n",
              "      <td>reparations stealing</td>\n",
              "    </tr>\n",
              "    <tr>\n",
              "      <th>9</th>\n",
              "      <td>crazy shit</td>\n",
              "    </tr>\n",
              "    <tr>\n",
              "      <th>10</th>\n",
              "      <td>reparations bad</td>\n",
              "    </tr>\n",
              "    <tr>\n",
              "      <th>11</th>\n",
              "      <td>mad reparations</td>\n",
              "    </tr>\n",
              "    <tr>\n",
              "      <th>12</th>\n",
              "      <td>illegal aliens</td>\n",
              "    </tr>\n",
              "    <tr>\n",
              "      <th>13</th>\n",
              "      <td>dead reparations</td>\n",
              "    </tr>\n",
              "    <tr>\n",
              "      <th>14</th>\n",
              "      <td>shit sen</td>\n",
              "    </tr>\n",
              "    <tr>\n",
              "      <th>15</th>\n",
              "      <td>reparations dead</td>\n",
              "    </tr>\n",
              "    <tr>\n",
              "      <th>16</th>\n",
              "      <td>american slavery</td>\n",
              "    </tr>\n",
              "    <tr>\n",
              "      <th>17</th>\n",
              "      <td>reparations reason</td>\n",
              "    </tr>\n",
              "    <tr>\n",
              "      <th>18</th>\n",
              "      <td>chattel slavery</td>\n",
              "    </tr>\n",
              "    <tr>\n",
              "      <th>19</th>\n",
              "      <td>hell want</td>\n",
              "    </tr>\n",
              "    <tr>\n",
              "      <th>20</th>\n",
              "      <td>wth reparations</td>\n",
              "    </tr>\n",
              "    <tr>\n",
              "      <th>21</th>\n",
              "      <td>police brutality</td>\n",
              "    </tr>\n",
              "    <tr>\n",
              "      <th>22</th>\n",
              "      <td>reparations hell</td>\n",
              "    </tr>\n",
              "    <tr>\n",
              "      <th>23</th>\n",
              "      <td>reparations vote</td>\n",
              "    </tr>\n",
              "    <tr>\n",
              "      <th>24</th>\n",
              "      <td>sins ancestors</td>\n",
              "    </tr>\n",
              "    <tr>\n",
              "      <th>25</th>\n",
              "      <td>end slavery</td>\n",
              "    </tr>\n",
              "    <tr>\n",
              "      <th>26</th>\n",
              "      <td>make racist</td>\n",
              "    </tr>\n",
              "    <tr>\n",
              "      <th>27</th>\n",
              "      <td>illegal immigrants</td>\n",
              "    </tr>\n",
              "    <tr>\n",
              "      <th>28</th>\n",
              "      <td>slavery pay</td>\n",
              "    </tr>\n",
              "    <tr>\n",
              "      <th>29</th>\n",
              "      <td>long dead</td>\n",
              "    </tr>\n",
              "    <tr>\n",
              "      <th>...</th>\n",
              "      <td>...</td>\n",
              "    </tr>\n",
              "    <tr>\n",
              "      <th>148272</th>\n",
              "      <td>reparations love</td>\n",
              "    </tr>\n",
              "    <tr>\n",
              "      <th>148273</th>\n",
              "      <td>make better</td>\n",
              "    </tr>\n",
              "    <tr>\n",
              "      <th>148274</th>\n",
              "      <td>god bless</td>\n",
              "    </tr>\n",
              "    <tr>\n",
              "      <th>148275</th>\n",
              "      <td>great grandmother</td>\n",
              "    </tr>\n",
              "    <tr>\n",
              "      <th>148276</th>\n",
              "      <td>erase history</td>\n",
              "    </tr>\n",
              "    <tr>\n",
              "      <th>148277</th>\n",
              "      <td>happy reparations</td>\n",
              "    </tr>\n",
              "    <tr>\n",
              "      <th>148278</th>\n",
              "      <td>gays lol</td>\n",
              "    </tr>\n",
              "    <tr>\n",
              "      <th>148279</th>\n",
              "      <td>exclusive sen</td>\n",
              "    </tr>\n",
              "    <tr>\n",
              "      <th>148280</th>\n",
              "      <td>lmao reparations</td>\n",
              "    </tr>\n",
              "    <tr>\n",
              "      <th>148281</th>\n",
              "      <td>yeah great</td>\n",
              "    </tr>\n",
              "    <tr>\n",
              "      <th>148282</th>\n",
              "      <td>reparations lol</td>\n",
              "    </tr>\n",
              "    <tr>\n",
              "      <th>148283</th>\n",
              "      <td>public forum</td>\n",
              "    </tr>\n",
              "    <tr>\n",
              "      <th>148284</th>\n",
              "      <td>make sure</td>\n",
              "    </tr>\n",
              "    <tr>\n",
              "      <th>148285</th>\n",
              "      <td>like say</td>\n",
              "    </tr>\n",
              "    <tr>\n",
              "      <th>148286</th>\n",
              "      <td>health care</td>\n",
              "    </tr>\n",
              "    <tr>\n",
              "      <th>148287</th>\n",
              "      <td>good luck</td>\n",
              "    </tr>\n",
              "    <tr>\n",
              "      <th>148288</th>\n",
              "      <td>honestly need</td>\n",
              "    </tr>\n",
              "    <tr>\n",
              "      <th>148289</th>\n",
              "      <td>giving reparations</td>\n",
              "    </tr>\n",
              "    <tr>\n",
              "      <th>148290</th>\n",
              "      <td>reparations freedom</td>\n",
              "    </tr>\n",
              "    <tr>\n",
              "      <th>148291</th>\n",
              "      <td>wow reparations</td>\n",
              "    </tr>\n",
              "    <tr>\n",
              "      <th>148292</th>\n",
              "      <td>asking friend</td>\n",
              "    </tr>\n",
              "    <tr>\n",
              "      <th>148293</th>\n",
              "      <td>reparations free</td>\n",
              "    </tr>\n",
              "    <tr>\n",
              "      <th>148294</th>\n",
              "      <td>stealth reparations</td>\n",
              "    </tr>\n",
              "    <tr>\n",
              "      <th>148295</th>\n",
              "      <td>grandfathers pay</td>\n",
              "    </tr>\n",
              "    <tr>\n",
              "      <th>148296</th>\n",
              "      <td>reparations happy</td>\n",
              "    </tr>\n",
              "    <tr>\n",
              "      <th>148297</th>\n",
              "      <td>history means</td>\n",
              "    </tr>\n",
              "    <tr>\n",
              "      <th>148298</th>\n",
              "      <td>lol reparations</td>\n",
              "    </tr>\n",
              "    <tr>\n",
              "      <th>148299</th>\n",
              "      <td>means slavery</td>\n",
              "    </tr>\n",
              "    <tr>\n",
              "      <th>148300</th>\n",
              "      <td>love reparations</td>\n",
              "    </tr>\n",
              "    <tr>\n",
              "      <th>148301</th>\n",
              "      <td>great reparations</td>\n",
              "    </tr>\n",
              "  </tbody>\n",
              "</table>\n",
              "<p>148302 rows × 1 columns</p>\n",
              "</div>"
            ],
            "text/plain": [
              "                           0\n",
              "0        descendants slavery\n",
              "1        slavery reparations\n",
              "2        reparations slavery\n",
              "3         reparations stupid\n",
              "4           hell reparations\n",
              "5       reparations bullshit\n",
              "6                  civil war\n",
              "7             pain suffering\n",
              "8       reparations stealing\n",
              "9                 crazy shit\n",
              "10           reparations bad\n",
              "11           mad reparations\n",
              "12            illegal aliens\n",
              "13          dead reparations\n",
              "14                  shit sen\n",
              "15          reparations dead\n",
              "16          american slavery\n",
              "17        reparations reason\n",
              "18           chattel slavery\n",
              "19                 hell want\n",
              "20           wth reparations\n",
              "21          police brutality\n",
              "22          reparations hell\n",
              "23          reparations vote\n",
              "24            sins ancestors\n",
              "25               end slavery\n",
              "26               make racist\n",
              "27        illegal immigrants\n",
              "28               slavery pay\n",
              "29                 long dead\n",
              "...                      ...\n",
              "148272      reparations love\n",
              "148273           make better\n",
              "148274             god bless\n",
              "148275     great grandmother\n",
              "148276         erase history\n",
              "148277     happy reparations\n",
              "148278              gays lol\n",
              "148279         exclusive sen\n",
              "148280      lmao reparations\n",
              "148281            yeah great\n",
              "148282       reparations lol\n",
              "148283          public forum\n",
              "148284             make sure\n",
              "148285              like say\n",
              "148286           health care\n",
              "148287             good luck\n",
              "148288         honestly need\n",
              "148289    giving reparations\n",
              "148290   reparations freedom\n",
              "148291       wow reparations\n",
              "148292         asking friend\n",
              "148293      reparations free\n",
              "148294   stealth reparations\n",
              "148295      grandfathers pay\n",
              "148296     reparations happy\n",
              "148297         history means\n",
              "148298       lol reparations\n",
              "148299         means slavery\n",
              "148300      love reparations\n",
              "148301     great reparations\n",
              "\n",
              "[148302 rows x 1 columns]"
            ]
          },
          "metadata": {
            "tags": []
          },
          "execution_count": 99
        }
      ]
    },
    {
      "cell_type": "code",
      "metadata": {
        "id": "KU4-OGA8thvb",
        "colab_type": "code",
        "colab": {}
      },
      "source": [
        "df_pingwords.rename(columns={0:'ping pair'}, inplace= True)"
      ],
      "execution_count": 0,
      "outputs": []
    },
    {
      "cell_type": "code",
      "metadata": {
        "id": "38JLvXy_uKoW",
        "colab_type": "code",
        "colab": {
          "base_uri": "https://localhost:8080/",
          "height": 1000
        },
        "outputId": "44e5a622-85e0-433e-d41f-0250a7903977"
      },
      "source": [
        "df_pingwords"
      ],
      "execution_count": 101,
      "outputs": [
        {
          "output_type": "execute_result",
          "data": {
            "text/html": [
              "<div>\n",
              "<style scoped>\n",
              "    .dataframe tbody tr th:only-of-type {\n",
              "        vertical-align: middle;\n",
              "    }\n",
              "\n",
              "    .dataframe tbody tr th {\n",
              "        vertical-align: top;\n",
              "    }\n",
              "\n",
              "    .dataframe thead th {\n",
              "        text-align: right;\n",
              "    }\n",
              "</style>\n",
              "<table border=\"1\" class=\"dataframe\">\n",
              "  <thead>\n",
              "    <tr style=\"text-align: right;\">\n",
              "      <th></th>\n",
              "      <th>ping pair</th>\n",
              "    </tr>\n",
              "  </thead>\n",
              "  <tbody>\n",
              "    <tr>\n",
              "      <th>0</th>\n",
              "      <td>descendants slavery</td>\n",
              "    </tr>\n",
              "    <tr>\n",
              "      <th>1</th>\n",
              "      <td>slavery reparations</td>\n",
              "    </tr>\n",
              "    <tr>\n",
              "      <th>2</th>\n",
              "      <td>reparations slavery</td>\n",
              "    </tr>\n",
              "    <tr>\n",
              "      <th>3</th>\n",
              "      <td>reparations stupid</td>\n",
              "    </tr>\n",
              "    <tr>\n",
              "      <th>4</th>\n",
              "      <td>hell reparations</td>\n",
              "    </tr>\n",
              "    <tr>\n",
              "      <th>5</th>\n",
              "      <td>reparations bullshit</td>\n",
              "    </tr>\n",
              "    <tr>\n",
              "      <th>6</th>\n",
              "      <td>civil war</td>\n",
              "    </tr>\n",
              "    <tr>\n",
              "      <th>7</th>\n",
              "      <td>pain suffering</td>\n",
              "    </tr>\n",
              "    <tr>\n",
              "      <th>8</th>\n",
              "      <td>reparations stealing</td>\n",
              "    </tr>\n",
              "    <tr>\n",
              "      <th>9</th>\n",
              "      <td>crazy shit</td>\n",
              "    </tr>\n",
              "    <tr>\n",
              "      <th>10</th>\n",
              "      <td>reparations bad</td>\n",
              "    </tr>\n",
              "    <tr>\n",
              "      <th>11</th>\n",
              "      <td>mad reparations</td>\n",
              "    </tr>\n",
              "    <tr>\n",
              "      <th>12</th>\n",
              "      <td>illegal aliens</td>\n",
              "    </tr>\n",
              "    <tr>\n",
              "      <th>13</th>\n",
              "      <td>dead reparations</td>\n",
              "    </tr>\n",
              "    <tr>\n",
              "      <th>14</th>\n",
              "      <td>shit sen</td>\n",
              "    </tr>\n",
              "    <tr>\n",
              "      <th>15</th>\n",
              "      <td>reparations dead</td>\n",
              "    </tr>\n",
              "    <tr>\n",
              "      <th>16</th>\n",
              "      <td>american slavery</td>\n",
              "    </tr>\n",
              "    <tr>\n",
              "      <th>17</th>\n",
              "      <td>reparations reason</td>\n",
              "    </tr>\n",
              "    <tr>\n",
              "      <th>18</th>\n",
              "      <td>chattel slavery</td>\n",
              "    </tr>\n",
              "    <tr>\n",
              "      <th>19</th>\n",
              "      <td>hell want</td>\n",
              "    </tr>\n",
              "    <tr>\n",
              "      <th>20</th>\n",
              "      <td>wth reparations</td>\n",
              "    </tr>\n",
              "    <tr>\n",
              "      <th>21</th>\n",
              "      <td>police brutality</td>\n",
              "    </tr>\n",
              "    <tr>\n",
              "      <th>22</th>\n",
              "      <td>reparations hell</td>\n",
              "    </tr>\n",
              "    <tr>\n",
              "      <th>23</th>\n",
              "      <td>reparations vote</td>\n",
              "    </tr>\n",
              "    <tr>\n",
              "      <th>24</th>\n",
              "      <td>sins ancestors</td>\n",
              "    </tr>\n",
              "    <tr>\n",
              "      <th>25</th>\n",
              "      <td>end slavery</td>\n",
              "    </tr>\n",
              "    <tr>\n",
              "      <th>26</th>\n",
              "      <td>make racist</td>\n",
              "    </tr>\n",
              "    <tr>\n",
              "      <th>27</th>\n",
              "      <td>illegal immigrants</td>\n",
              "    </tr>\n",
              "    <tr>\n",
              "      <th>28</th>\n",
              "      <td>slavery pay</td>\n",
              "    </tr>\n",
              "    <tr>\n",
              "      <th>29</th>\n",
              "      <td>long dead</td>\n",
              "    </tr>\n",
              "    <tr>\n",
              "      <th>...</th>\n",
              "      <td>...</td>\n",
              "    </tr>\n",
              "    <tr>\n",
              "      <th>148272</th>\n",
              "      <td>reparations love</td>\n",
              "    </tr>\n",
              "    <tr>\n",
              "      <th>148273</th>\n",
              "      <td>make better</td>\n",
              "    </tr>\n",
              "    <tr>\n",
              "      <th>148274</th>\n",
              "      <td>god bless</td>\n",
              "    </tr>\n",
              "    <tr>\n",
              "      <th>148275</th>\n",
              "      <td>great grandmother</td>\n",
              "    </tr>\n",
              "    <tr>\n",
              "      <th>148276</th>\n",
              "      <td>erase history</td>\n",
              "    </tr>\n",
              "    <tr>\n",
              "      <th>148277</th>\n",
              "      <td>happy reparations</td>\n",
              "    </tr>\n",
              "    <tr>\n",
              "      <th>148278</th>\n",
              "      <td>gays lol</td>\n",
              "    </tr>\n",
              "    <tr>\n",
              "      <th>148279</th>\n",
              "      <td>exclusive sen</td>\n",
              "    </tr>\n",
              "    <tr>\n",
              "      <th>148280</th>\n",
              "      <td>lmao reparations</td>\n",
              "    </tr>\n",
              "    <tr>\n",
              "      <th>148281</th>\n",
              "      <td>yeah great</td>\n",
              "    </tr>\n",
              "    <tr>\n",
              "      <th>148282</th>\n",
              "      <td>reparations lol</td>\n",
              "    </tr>\n",
              "    <tr>\n",
              "      <th>148283</th>\n",
              "      <td>public forum</td>\n",
              "    </tr>\n",
              "    <tr>\n",
              "      <th>148284</th>\n",
              "      <td>make sure</td>\n",
              "    </tr>\n",
              "    <tr>\n",
              "      <th>148285</th>\n",
              "      <td>like say</td>\n",
              "    </tr>\n",
              "    <tr>\n",
              "      <th>148286</th>\n",
              "      <td>health care</td>\n",
              "    </tr>\n",
              "    <tr>\n",
              "      <th>148287</th>\n",
              "      <td>good luck</td>\n",
              "    </tr>\n",
              "    <tr>\n",
              "      <th>148288</th>\n",
              "      <td>honestly need</td>\n",
              "    </tr>\n",
              "    <tr>\n",
              "      <th>148289</th>\n",
              "      <td>giving reparations</td>\n",
              "    </tr>\n",
              "    <tr>\n",
              "      <th>148290</th>\n",
              "      <td>reparations freedom</td>\n",
              "    </tr>\n",
              "    <tr>\n",
              "      <th>148291</th>\n",
              "      <td>wow reparations</td>\n",
              "    </tr>\n",
              "    <tr>\n",
              "      <th>148292</th>\n",
              "      <td>asking friend</td>\n",
              "    </tr>\n",
              "    <tr>\n",
              "      <th>148293</th>\n",
              "      <td>reparations free</td>\n",
              "    </tr>\n",
              "    <tr>\n",
              "      <th>148294</th>\n",
              "      <td>stealth reparations</td>\n",
              "    </tr>\n",
              "    <tr>\n",
              "      <th>148295</th>\n",
              "      <td>grandfathers pay</td>\n",
              "    </tr>\n",
              "    <tr>\n",
              "      <th>148296</th>\n",
              "      <td>reparations happy</td>\n",
              "    </tr>\n",
              "    <tr>\n",
              "      <th>148297</th>\n",
              "      <td>history means</td>\n",
              "    </tr>\n",
              "    <tr>\n",
              "      <th>148298</th>\n",
              "      <td>lol reparations</td>\n",
              "    </tr>\n",
              "    <tr>\n",
              "      <th>148299</th>\n",
              "      <td>means slavery</td>\n",
              "    </tr>\n",
              "    <tr>\n",
              "      <th>148300</th>\n",
              "      <td>love reparations</td>\n",
              "    </tr>\n",
              "    <tr>\n",
              "      <th>148301</th>\n",
              "      <td>great reparations</td>\n",
              "    </tr>\n",
              "  </tbody>\n",
              "</table>\n",
              "<p>148302 rows × 1 columns</p>\n",
              "</div>"
            ],
            "text/plain": [
              "                   ping pair\n",
              "0        descendants slavery\n",
              "1        slavery reparations\n",
              "2        reparations slavery\n",
              "3         reparations stupid\n",
              "4           hell reparations\n",
              "5       reparations bullshit\n",
              "6                  civil war\n",
              "7             pain suffering\n",
              "8       reparations stealing\n",
              "9                 crazy shit\n",
              "10           reparations bad\n",
              "11           mad reparations\n",
              "12            illegal aliens\n",
              "13          dead reparations\n",
              "14                  shit sen\n",
              "15          reparations dead\n",
              "16          american slavery\n",
              "17        reparations reason\n",
              "18           chattel slavery\n",
              "19                 hell want\n",
              "20           wth reparations\n",
              "21          police brutality\n",
              "22          reparations hell\n",
              "23          reparations vote\n",
              "24            sins ancestors\n",
              "25               end slavery\n",
              "26               make racist\n",
              "27        illegal immigrants\n",
              "28               slavery pay\n",
              "29                 long dead\n",
              "...                      ...\n",
              "148272      reparations love\n",
              "148273           make better\n",
              "148274             god bless\n",
              "148275     great grandmother\n",
              "148276         erase history\n",
              "148277     happy reparations\n",
              "148278              gays lol\n",
              "148279         exclusive sen\n",
              "148280      lmao reparations\n",
              "148281            yeah great\n",
              "148282       reparations lol\n",
              "148283          public forum\n",
              "148284             make sure\n",
              "148285              like say\n",
              "148286           health care\n",
              "148287             good luck\n",
              "148288         honestly need\n",
              "148289    giving reparations\n",
              "148290   reparations freedom\n",
              "148291       wow reparations\n",
              "148292         asking friend\n",
              "148293      reparations free\n",
              "148294   stealth reparations\n",
              "148295      grandfathers pay\n",
              "148296     reparations happy\n",
              "148297         history means\n",
              "148298       lol reparations\n",
              "148299         means slavery\n",
              "148300      love reparations\n",
              "148301     great reparations\n",
              "\n",
              "[148302 rows x 1 columns]"
            ]
          },
          "metadata": {
            "tags": []
          },
          "execution_count": 101
        }
      ]
    },
    {
      "cell_type": "code",
      "metadata": {
        "id": "84Q-eSu-2doC",
        "colab_type": "code",
        "colab": {}
      },
      "source": [
        "from sklearn.utils.validation import check_is_fitted\n",
        "from sklearn.utils.validation import column_or_1d"
      ],
      "execution_count": 0,
      "outputs": []
    },
    {
      "cell_type": "code",
      "metadata": {
        "id": "3VliGuvL0_cP",
        "colab_type": "code",
        "colab": {}
      },
      "source": [
        "class TolerantLabelEncoder(LabelEncoder):\n",
        "    def __init__(self, ignore_unknown=False,\n",
        "                       unknown_original_value='unknown', \n",
        "                       unknown_encoded_value=-1):\n",
        "        self.ignore_unknown = ignore_unknown\n",
        "        self.unknown_original_value = unknown_original_value\n",
        "        self.unknown_encoded_value = unknown_encoded_value\n",
        "\n",
        "    def transform(self, y):\n",
        "        check_is_fitted(self, 'classes_')\n",
        "        y = column_or_1d(y, warn=True)\n",
        "\n",
        "        indices = np.isin(y, self.classes_)\n",
        "        if not self.ignore_unknown and not np.all(indices):\n",
        "            raise ValueError(\"y contains new labels: %s\" \n",
        "                                         % str(np.setdiff1d(y, self.classes_)))\n",
        "\n",
        "        y_transformed = np.searchsorted(self.classes_, y)\n",
        "        y_transformed[~indices]=self.unknown_encoded_value\n",
        "        return y_transformed\n",
        "\n",
        "    def inverse_transform(self, y):\n",
        "        check_is_fitted(self, 'classes_')\n",
        "\n",
        "        labels = np.arange(len(self.classes_))\n",
        "        indices = np.isin(y, labels)\n",
        "        if not self.ignore_unknown and not np.all(indices):\n",
        "            raise ValueError(\"y contains new labels: %s\" \n",
        "                                         % str(np.setdiff1d(y, self.classes_)))\n",
        "\n",
        "        y_transformed = np.asarray(self.classes_[y], dtype=object)\n",
        "        y_transformed[~indices]=self.unknown_original_value\n",
        "        return y_transformed"
      ],
      "execution_count": 0,
      "outputs": []
    },
    {
      "cell_type": "code",
      "metadata": {
        "id": "JYeCpS4fuuTG",
        "colab_type": "code",
        "colab": {
          "base_uri": "https://localhost:8080/",
          "height": 136
        },
        "outputId": "7cc1143e-2674-490c-ccad-757341031681"
      },
      "source": [
        "train_size = int(len(df_repar) * .7)\n",
        "train_posts = df_repar['tweet'][:train_size]\n",
        "train_tags = df_repar['negative'][:train_size]\n",
        "\n",
        "test_posts = df_repar['tweet'][train_size:]\n",
        "test_tags = df_repar['negative'][train_size:]\n",
        "\n",
        "max_words = 1000\n",
        "tokenize = text.Tokenizer(num_words=max_words, char_level=False)\n",
        "tokenize.fit_on_texts(train_posts) # only fit on train\n",
        "\n",
        "x_train = tokenize.texts_to_matrix(train_posts)\n",
        "x_test = tokenize.texts_to_matrix(test_posts)\n",
        "\n",
        "\n",
        "encoder = TolerantLabelEncoder()\n",
        "encoder.fit(train_tags)\n",
        "y_train = encoder.transform(train_tags)\n",
        "y_test = encoder.fit_transform(test_tags)\n",
        "\n",
        "num_classes = np.max(y_train) + 1\n",
        "y_train = utils.to_categorical(y_train, num_classes)\n",
        "y_test = utils.to_categorical(y_test, num_classes)\n",
        "\n",
        "batch_size = 32\n",
        "epochs = 3\n",
        "\n",
        "# Build the model\n",
        "model = Sequential()\n",
        "model.add(Dense(512, input_shape=(max_words,)))\n",
        "model.add(Activation('relu'))\n",
        "model.add(Dropout(0.5))\n",
        "model.add(Dense(num_classes))\n",
        "model.add(Activation('softmax'))\n",
        "\n",
        "model.compile(loss='categorical_crossentropy',\n",
        "              optimizer='adam',\n",
        "              metrics=['accuracy'])\n",
        "              \n",
        "history = model.fit(x_train, y_train,\n",
        "                    batch_size=batch_size,\n",
        "                    epochs=epochs,\n",
        "                    verbose=1,\n",
        "                    validation_split=0.1)"
      ],
      "execution_count": 134,
      "outputs": [
        {
          "output_type": "stream",
          "text": [
            "Train on 16022 samples, validate on 1781 samples\n",
            "Epoch 1/3\n",
            "16022/16022 [==============================] - 8s 487us/step - loss: 3.9045 - acc: 0.4395 - val_loss: 3.8086 - val_acc: 0.4116\n",
            "Epoch 2/3\n",
            "16022/16022 [==============================] - 8s 482us/step - loss: 3.3328 - acc: 0.4505 - val_loss: 3.7580 - val_acc: 0.4161\n",
            "Epoch 3/3\n",
            "16022/16022 [==============================] - 8s 505us/step - loss: 2.9862 - acc: 0.4607 - val_loss: 3.7817 - val_acc: 0.4166\n"
          ],
          "name": "stdout"
        }
      ]
    },
    {
      "cell_type": "code",
      "metadata": {
        "id": "5e30cPs07z6b",
        "colab_type": "code",
        "colab": {}
      },
      "source": [
        "#model.predict(x_test)"
      ],
      "execution_count": 0,
      "outputs": []
    },
    {
      "cell_type": "code",
      "metadata": {
        "id": "clDWR1RY75oO",
        "colab_type": "code",
        "colab": {}
      },
      "source": [
        "#model.evaluate(x_test, y_test, batch_size= batch_size, verbose = 1)\n",
        "#print('Test accuracy:', score[0])"
      ],
      "execution_count": 0,
      "outputs": []
    },
    {
      "cell_type": "code",
      "metadata": {
        "id": "VcvUV4k6uuHt",
        "colab_type": "code",
        "colab": {}
      },
      "source": [
        "#score = model.evaluate(x_test, y_test,\n",
        "#                       batch_size=batch_size, verbose=1)\n",
        "#print('Test accuracy:', score[0])"
      ],
      "execution_count": 0,
      "outputs": []
    },
    {
      "cell_type": "code",
      "metadata": {
        "id": "KaeNLDEBuL_t",
        "colab_type": "code",
        "colab": {}
      },
      "source": [
        ""
      ],
      "execution_count": 0,
      "outputs": []
    }
  ]
}